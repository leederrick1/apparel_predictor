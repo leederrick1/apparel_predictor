{
 "cells": [
  {
   "cell_type": "markdown",
   "id": "a828cd1d",
   "metadata": {},
   "source": [
    "# Final Project\n",
    "#### This contains all the code combined from all files and csv files generated"
   ]
  },
  {
   "cell_type": "code",
   "execution_count": 164,
   "id": "24f1dee2",
   "metadata": {},
   "outputs": [
    {
     "name": "stderr",
     "output_type": "stream",
     "text": [
      "WARNING: pip is being invoked by an old script wrapper. This will fail in a future version of pip.\n",
      "Please see https://github.com/pypa/pip/issues/5599 for advice on fixing the underlying issue.\n",
      "To avoid this problem you can invoke Python with '-m pip' instead of running pip directly.\n"
     ]
    },
    {
     "data": {
      "text/html": [
       "<pre style=\"white-space:pre;overflow-x:auto;line-height:normal;font-family:Menlo,'DejaVu Sans Mono',consolas,'Courier New',monospace\">Requirement already satisfied: seaborn in c:\\users\\derrick\\appdata\\local\\programs\\python\\python39\\lib\\site-packages (0.11.2)\n",
       "</pre>\n"
      ],
      "text/plain": [
       "Requirement already satisfied: seaborn in c:\\users\\derrick\\appdata\\local\\programs\\python\\python39\\lib\\site-packages (0.11.2)\n"
      ]
     },
     "metadata": {},
     "output_type": "display_data"
    },
    {
     "data": {
      "text/html": [
       "<pre style=\"white-space:pre;overflow-x:auto;line-height:normal;font-family:Menlo,'DejaVu Sans Mono',consolas,'Courier New',monospace\">Requirement already satisfied: numpy&gt;=1.15 in c:\\users\\derrick\\appdata\\local\\programs\\python\\python39\\lib\\site-packages (from seaborn) (1.22.2)\n",
       "</pre>\n"
      ],
      "text/plain": [
       "Requirement already satisfied: numpy>=1.15 in c:\\users\\derrick\\appdata\\local\\programs\\python\\python39\\lib\\site-packages (from seaborn) (1.22.2)\n"
      ]
     },
     "metadata": {},
     "output_type": "display_data"
    },
    {
     "data": {
      "text/html": [
       "<pre style=\"white-space:pre;overflow-x:auto;line-height:normal;font-family:Menlo,'DejaVu Sans Mono',consolas,'Courier New',monospace\">Requirement already satisfied: scipy&gt;=1.0 in c:\\users\\derrick\\appdata\\local\\programs\\python\\python39\\lib\\site-packages (from seaborn) (1.8.0)\n",
       "</pre>\n"
      ],
      "text/plain": [
       "Requirement already satisfied: scipy>=1.0 in c:\\users\\derrick\\appdata\\local\\programs\\python\\python39\\lib\\site-packages (from seaborn) (1.8.0)\n"
      ]
     },
     "metadata": {},
     "output_type": "display_data"
    },
    {
     "data": {
      "text/html": [
       "<pre style=\"white-space:pre;overflow-x:auto;line-height:normal;font-family:Menlo,'DejaVu Sans Mono',consolas,'Courier New',monospace\">Requirement already satisfied: pandas&gt;=0.23 in c:\\users\\derrick\\appdata\\local\\programs\\python\\python39\\lib\\site-packages (from seaborn) (1.4.1)\n",
       "</pre>\n"
      ],
      "text/plain": [
       "Requirement already satisfied: pandas>=0.23 in c:\\users\\derrick\\appdata\\local\\programs\\python\\python39\\lib\\site-packages (from seaborn) (1.4.1)\n"
      ]
     },
     "metadata": {},
     "output_type": "display_data"
    },
    {
     "data": {
      "text/html": [
       "<pre style=\"white-space:pre;overflow-x:auto;line-height:normal;font-family:Menlo,'DejaVu Sans Mono',consolas,'Courier New',monospace\">Requirement already satisfied: matplotlib&gt;=2.2 in c:\\users\\derrick\\appdata\\local\\programs\\python\\python39\\lib\\site-packages (from seaborn) (3.5.1)\n",
       "</pre>\n"
      ],
      "text/plain": [
       "Requirement already satisfied: matplotlib>=2.2 in c:\\users\\derrick\\appdata\\local\\programs\\python\\python39\\lib\\site-packages (from seaborn) (3.5.1)\n"
      ]
     },
     "metadata": {},
     "output_type": "display_data"
    },
    {
     "data": {
      "text/html": [
       "<pre style=\"white-space:pre;overflow-x:auto;line-height:normal;font-family:Menlo,'DejaVu Sans Mono',consolas,'Courier New',monospace\">Requirement already satisfied: python-dateutil&gt;=2.7 in c:\\users\\derrick\\appdata\\local\\programs\\python\\python39\\lib\\site-packages (from matplotlib&gt;=2.2-&gt;seaborn) (2.8.2)\n",
       "</pre>\n"
      ],
      "text/plain": [
       "Requirement already satisfied: python-dateutil>=2.7 in c:\\users\\derrick\\appdata\\local\\programs\\python\\python39\\lib\\site-packages (from matplotlib>=2.2->seaborn) (2.8.2)\n"
      ]
     },
     "metadata": {},
     "output_type": "display_data"
    },
    {
     "data": {
      "text/html": [
       "<pre style=\"white-space:pre;overflow-x:auto;line-height:normal;font-family:Menlo,'DejaVu Sans Mono',consolas,'Courier New',monospace\">Requirement already satisfied: pyparsing&gt;=2.2.1 in c:\\users\\derrick\\appdata\\local\\programs\\python\\python39\\lib\\site-packages (from matplotlib&gt;=2.2-&gt;seaborn) (3.0.7)\n",
       "</pre>\n"
      ],
      "text/plain": [
       "Requirement already satisfied: pyparsing>=2.2.1 in c:\\users\\derrick\\appdata\\local\\programs\\python\\python39\\lib\\site-packages (from matplotlib>=2.2->seaborn) (3.0.7)\n"
      ]
     },
     "metadata": {},
     "output_type": "display_data"
    },
    {
     "data": {
      "text/html": [
       "<pre style=\"white-space:pre;overflow-x:auto;line-height:normal;font-family:Menlo,'DejaVu Sans Mono',consolas,'Courier New',monospace\">Requirement already satisfied: fonttools&gt;=4.22.0 in c:\\users\\derrick\\appdata\\local\\programs\\python\\python39\\lib\\site-packages (from matplotlib&gt;=2.2-&gt;seaborn) (4.29.1)\n",
       "</pre>\n"
      ],
      "text/plain": [
       "Requirement already satisfied: fonttools>=4.22.0 in c:\\users\\derrick\\appdata\\local\\programs\\python\\python39\\lib\\site-packages (from matplotlib>=2.2->seaborn) (4.29.1)\n"
      ]
     },
     "metadata": {},
     "output_type": "display_data"
    },
    {
     "data": {
      "text/html": [
       "<pre style=\"white-space:pre;overflow-x:auto;line-height:normal;font-family:Menlo,'DejaVu Sans Mono',consolas,'Courier New',monospace\">Requirement already satisfied: cycler&gt;=0.10 in c:\\users\\derrick\\appdata\\local\\programs\\python\\python39\\lib\\site-packages (from matplotlib&gt;=2.2-&gt;seaborn) (0.11.0)\n",
       "</pre>\n"
      ],
      "text/plain": [
       "Requirement already satisfied: cycler>=0.10 in c:\\users\\derrick\\appdata\\local\\programs\\python\\python39\\lib\\site-packages (from matplotlib>=2.2->seaborn) (0.11.0)\n"
      ]
     },
     "metadata": {},
     "output_type": "display_data"
    },
    {
     "data": {
      "text/html": [
       "<pre style=\"white-space:pre;overflow-x:auto;line-height:normal;font-family:Menlo,'DejaVu Sans Mono',consolas,'Courier New',monospace\">Requirement already satisfied: kiwisolver&gt;=1.0.1 in c:\\users\\derrick\\appdata\\local\\programs\\python\\python39\\lib\\site-packages (from matplotlib&gt;=2.2-&gt;seaborn) (1.3.2)\n",
       "</pre>\n"
      ],
      "text/plain": [
       "Requirement already satisfied: kiwisolver>=1.0.1 in c:\\users\\derrick\\appdata\\local\\programs\\python\\python39\\lib\\site-packages (from matplotlib>=2.2->seaborn) (1.3.2)\n"
      ]
     },
     "metadata": {},
     "output_type": "display_data"
    },
    {
     "data": {
      "text/html": [
       "<pre style=\"white-space:pre;overflow-x:auto;line-height:normal;font-family:Menlo,'DejaVu Sans Mono',consolas,'Courier New',monospace\">Requirement already satisfied: packaging&gt;=20.0 in c:\\users\\derrick\\appdata\\local\\programs\\python\\python39\\lib\\site-packages (from matplotlib&gt;=2.2-&gt;seaborn) (21.3)\n",
       "</pre>\n"
      ],
      "text/plain": [
       "Requirement already satisfied: packaging>=20.0 in c:\\users\\derrick\\appdata\\local\\programs\\python\\python39\\lib\\site-packages (from matplotlib>=2.2->seaborn) (21.3)\n"
      ]
     },
     "metadata": {},
     "output_type": "display_data"
    },
    {
     "data": {
      "text/html": [
       "<pre style=\"white-space:pre;overflow-x:auto;line-height:normal;font-family:Menlo,'DejaVu Sans Mono',consolas,'Courier New',monospace\">Requirement already satisfied: pillow&gt;=6.2.0 in c:\\users\\derrick\\appdata\\local\\programs\\python\\python39\\lib\\site-packages (from matplotlib&gt;=2.2-&gt;seaborn) (9.0.1)\n",
       "</pre>\n"
      ],
      "text/plain": [
       "Requirement already satisfied: pillow>=6.2.0 in c:\\users\\derrick\\appdata\\local\\programs\\python\\python39\\lib\\site-packages (from matplotlib>=2.2->seaborn) (9.0.1)\n"
      ]
     },
     "metadata": {},
     "output_type": "display_data"
    },
    {
     "data": {
      "text/html": [
       "<pre style=\"white-space:pre;overflow-x:auto;line-height:normal;font-family:Menlo,'DejaVu Sans Mono',consolas,'Courier New',monospace\">Requirement already satisfied: pytz&gt;=2020.1 in c:\\users\\derrick\\appdata\\local\\programs\\python\\python39\\lib\\site-packages (from pandas&gt;=0.23-&gt;seaborn) (2021.3)\n",
       "</pre>\n"
      ],
      "text/plain": [
       "Requirement already satisfied: pytz>=2020.1 in c:\\users\\derrick\\appdata\\local\\programs\\python\\python39\\lib\\site-packages (from pandas>=0.23->seaborn) (2021.3)\n"
      ]
     },
     "metadata": {},
     "output_type": "display_data"
    },
    {
     "data": {
      "text/html": [
       "<pre style=\"white-space:pre;overflow-x:auto;line-height:normal;font-family:Menlo,'DejaVu Sans Mono',consolas,'Courier New',monospace\">Requirement already satisfied: six&gt;=1.5 in c:\\users\\derrick\\appdata\\local\\programs\\python\\python39\\lib\\site-packages (from python-dateutil&gt;=2.7-&gt;matplotlib&gt;=2.2-&gt;seaborn) (1.16.0)\n",
       "</pre>\n"
      ],
      "text/plain": [
       "Requirement already satisfied: six>=1.5 in c:\\users\\derrick\\appdata\\local\\programs\\python\\python39\\lib\\site-packages (from python-dateutil>=2.7->matplotlib>=2.2->seaborn) (1.16.0)\n"
      ]
     },
     "metadata": {},
     "output_type": "display_data"
    },
    {
     "data": {
      "text/html": [
       "<pre style=\"white-space:pre;overflow-x:auto;line-height:normal;font-family:Menlo,'DejaVu Sans Mono',consolas,'Courier New',monospace\"><span style=\"color: #808000; text-decoration-color: #808000\">WARNING: You are using pip version 22.0.3; however, version 22.0.4 is available.\n",
       "You should consider upgrading via the 'c:\\users\\derrick\\appdata\\local\\programs\\python\\python39\\python.exe -m pip install --upgrade pip' command.\n",
       "</span></pre>\n"
      ],
      "text/plain": [
       "\u001b[33mWARNING: You are using pip version 22.0.3; however, version 22.0.4 is available.\n",
       "You should consider upgrading via the 'c:\\users\\derrick\\appdata\\local\\programs\\python\\python39\\python.exe -m pip install --upgrade pip' command.\u001b[0m\u001b[33m\n",
       "\u001b[0m"
      ]
     },
     "metadata": {},
     "output_type": "display_data"
    }
   ],
   "source": [
    "import csv\n",
    "import pandas as pd, numpy as np, scipy as s\n",
    "import matplotlib.pyplot as plt\n",
    "from sklearn.neighbors import KNeighborsClassifier\n",
    "from sklearn.preprocessing import StandardScaler\n",
    "from sklearn.model_selection import train_test_split\n",
    "from sklearn.metrics import classification_report, confusion_matrix, accuracy_score\n",
    "from sklearn import preprocessing\n",
    "import csv\n",
    "import pandas as pd, numpy as np, scipy as s\n",
    "import matplotlib.pyplot as plt\n",
    "from sklearn.neighbors import KNeighborsClassifier\n",
    "from sklearn.preprocessing import StandardScaler\n",
    "from sklearn.model_selection import train_test_split\n",
    "from sklearn.metrics import classification_report, confusion_matrix, accuracy_score\n",
    "from sklearn import preprocessing\n",
    "from sklearn import tree\n",
    "from sklearn.ensemble import RandomForestClassifier\n",
    "from sklearn.ensemble import GradientBoostingClassifier\n",
    "from sklearn.feature_selection import RFE\n",
    "from sklearn.feature_selection import SelectKBest\n",
    "from sklearn.feature_selection import chi2\n",
    "from sklearn.naive_bayes import GaussianNB\n",
    "from sklearn.ensemble import AdaBoostClassifier\n",
    "from sklearn.ensemble import GradientBoostingClassifier\n",
    "from sklearn.linear_model import LogisticRegression\n",
    "from sklearn import svm\n",
    "from sklearn.feature_selection import RFE\n",
    "from sklearn.feature_selection import SelectKBest\n",
    "from sklearn.feature_selection import chi2\n",
    "import pip\n",
    "pip.main(['install','seaborn'])\n",
    "import seaborn as sns"
   ]
  },
  {
   "cell_type": "markdown",
   "id": "a61e22f7",
   "metadata": {},
   "source": [
    "# Combining and Cleaning Datasets"
   ]
  },
  {
   "cell_type": "code",
   "execution_count": 165,
   "id": "992ab3b0",
   "metadata": {},
   "outputs": [],
   "source": [
    "df_cust=pd.read_csv(\"customers.csv\")\n",
    "df_articles=pd.read_csv(\"articles.csv\")\n",
    "df_trx=pd.read_csv(\"transactions_train.csv\")"
   ]
  },
  {
   "cell_type": "code",
   "execution_count": 166,
   "id": "20f5cac6",
   "metadata": {},
   "outputs": [
    {
     "name": "stdout",
     "output_type": "stream",
     "text": [
      "null values:  895050\n",
      "1.0    476930\n",
      "Name: FN, dtype: int64\n",
      "----------------------------\n",
      "null values:  907576\n",
      "1.0    464404\n",
      "Name: Active, dtype: int64\n",
      "----------------------------\n",
      "null values:  6062\n",
      "ACTIVE        1272491\n",
      "PRE-CREATE      92960\n",
      "LEFT CLUB         467\n",
      "Name: club_member_status, dtype: int64\n",
      "----------------------------\n",
      "null values:  16009\n",
      "NONE         877711\n",
      "Regularly    477416\n",
      "Monthly         842\n",
      "None              2\n",
      "Name: fashion_news_frequency, dtype: int64\n",
      "----------------------------\n"
     ]
    }
   ],
   "source": [
    "for i in['FN','Active','club_member_status','fashion_news_frequency']:\n",
    "    print(\"null values: \",df_cust[i].isna().sum())\n",
    "    print(df_cust[i].value_counts())\n",
    "    print(\"----------------------------\")"
   ]
  },
  {
   "cell_type": "code",
   "execution_count": 167,
   "id": "c72fbb88",
   "metadata": {},
   "outputs": [],
   "source": [
    "df_cust['FN'].fillna(value=0,inplace=True)\n",
    "df_cust['Active'].fillna(value=0,inplace=True)\n",
    "df_cust['club_member_status'].fillna(value=\"ACTIVE\",inplace=True)\n",
    "df_cust['fashion_news_frequency'].fillna(value=\"NONE\",inplace=True)"
   ]
  },
  {
   "cell_type": "code",
   "execution_count": 168,
   "id": "395c20b0",
   "metadata": {},
   "outputs": [],
   "source": [
    "df_cust['fashion_news_frequency']=df_cust['fashion_news_frequency'].apply(lambda x: \"NONE\" if x==\"None\" else x)"
   ]
  },
  {
   "cell_type": "code",
   "execution_count": 169,
   "id": "fbaa7a11",
   "metadata": {},
   "outputs": [
    {
     "name": "stdout",
     "output_type": "stream",
     "text": [
      "null values:  0\n",
      "0.0    895050\n",
      "1.0    476930\n",
      "Name: FN, dtype: int64\n",
      "----------------------------\n",
      "null values:  0\n",
      "0.0    907576\n",
      "1.0    464404\n",
      "Name: Active, dtype: int64\n",
      "----------------------------\n",
      "null values:  0\n",
      "ACTIVE        1278553\n",
      "PRE-CREATE      92960\n",
      "LEFT CLUB         467\n",
      "Name: club_member_status, dtype: int64\n",
      "----------------------------\n",
      "null values:  0\n",
      "NONE         893722\n",
      "Regularly    477416\n",
      "Monthly         842\n",
      "Name: fashion_news_frequency, dtype: int64\n",
      "----------------------------\n"
     ]
    }
   ],
   "source": [
    "for i in['FN','Active','club_member_status','fashion_news_frequency']:\n",
    "    print(\"null values: \",df_cust[i].isna().sum())\n",
    "    print(df_cust[i].value_counts())\n",
    "    print(\"----------------------------\")"
   ]
  },
  {
   "cell_type": "code",
   "execution_count": 170,
   "id": "8a469987",
   "metadata": {},
   "outputs": [
    {
     "data": {
      "text/plain": [
       "index_group_no                       5\n",
       "index_group_name                     5\n",
       "perceived_colour_value_id            8\n",
       "perceived_colour_value_name          8\n",
       "index_name                          10\n",
       "index_code                          10\n",
       "product_group_name                  19\n",
       "perceived_colour_master_name        20\n",
       "perceived_colour_master_id          20\n",
       "garment_group_name                  21\n",
       "garment_group_no                    21\n",
       "graphical_appearance_name           30\n",
       "graphical_appearance_no             30\n",
       "colour_group_name                   50\n",
       "colour_group_code                   50\n",
       "section_name                        56\n",
       "section_no                          57\n",
       "product_type_name                  131\n",
       "product_type_no                    132\n",
       "department_name                    250\n",
       "department_no                      299\n",
       "detail_desc                      43404\n",
       "prod_name                        45875\n",
       "product_code                     47224\n",
       "article_id                      105542\n",
       "dtype: int64"
      ]
     },
     "execution_count": 170,
     "metadata": {},
     "output_type": "execute_result"
    }
   ],
   "source": [
    "df_articles.nunique().sort_values()"
   ]
  },
  {
   "cell_type": "code",
   "execution_count": 171,
   "id": "df03371f",
   "metadata": {},
   "outputs": [],
   "source": [
    "graphical_appearance=pd.Series(df_articles.graphical_appearance_name.values,\n",
    "                               index=df_articles.graphical_appearance_no).sort_index().to_dict()\n",
    "index_group=pd.Series(df_articles.index_group_name.values,\n",
    "                               index=df_articles.index_group_no).sort_index().to_dict()\n",
    "perceived_colour_value=pd.Series(df_articles.perceived_colour_value_name.values,\n",
    "                               index=df_articles.perceived_colour_value_id).sort_index().to_dict()\n",
    "index=pd.Series(df_articles.index_name.values,\n",
    "                               index=df_articles.index_code).sort_index().to_dict()\n",
    "perceived_colour_master=pd.Series(df_articles.perceived_colour_master_name.values,\n",
    "                               index=df_articles.perceived_colour_master_id).sort_index().to_dict()\n",
    "garment_group=pd.Series(df_articles.garment_group_name.values,\n",
    "                               index=df_articles.garment_group_no).sort_index().to_dict()\n",
    "colour_group=pd.Series(df_articles.colour_group_name.values,\n",
    "                               index=df_articles.colour_group_code).sort_index().to_dict()\n",
    "section=pd.Series(df_articles.section_name.values,\n",
    "                               index=df_articles.section_no).sort_index().to_dict()\n",
    "department=pd.Series(df_articles.department_name.values,\n",
    "                               index=df_articles.department_no).sort_index().to_dict()\n",
    "product_type=pd.Series(df_articles.product_type_name.values,\n",
    "                               index=df_articles.product_type_no).sort_index().to_dict()\n",
    "product=pd.Series(df_articles.prod_name.values,\n",
    "                               index=df_articles.product_code).sort_index().to_dict()\n",
    "dict_list={'graphical_appearance':graphical_appearance,'index_group':index_group,'perceived_colour_value':perceived_colour_value,\n",
    "           'index':index, 'perceived_colour_master':perceived_colour_master,'garment_group':garment_group,\n",
    "          'colour_group':colour_group,'section':section,'department':department,'product_type':product_type,\n",
    "          \"product\": product}"
   ]
  },
  {
   "cell_type": "code",
   "execution_count": 172,
   "id": "29cc19cd",
   "metadata": {},
   "outputs": [
    {
     "name": "stdout",
     "output_type": "stream",
     "text": [
      "columns having -1 values: \n",
      "\n",
      "['product_type_no', 'graphical_appearance_no', 'colour_group_code', 'perceived_colour_value_id', 'perceived_colour_master_id']\n"
     ]
    }
   ],
   "source": [
    "print(\"columns having -1 values: \\n\")\n",
    "cols_missing_value=[]\n",
    "for i in df_articles.columns:\n",
    "    if (-1 in df_articles[i].value_counts()):\n",
    "        cols_missing_value.append(i)\n",
    "print(cols_missing_value)  "
   ]
  },
  {
   "cell_type": "code",
   "execution_count": 173,
   "id": "1cf5801b",
   "metadata": {},
   "outputs": [
    {
     "data": {
      "text/plain": [
       "'Unknown'"
      ]
     },
     "execution_count": 173,
     "metadata": {},
     "output_type": "execute_result"
    }
   ],
   "source": [
    "product_type[-1]"
   ]
  },
  {
   "cell_type": "code",
   "execution_count": 174,
   "id": "5877ad73",
   "metadata": {},
   "outputs": [],
   "source": [
    "df_cust.to_csv(\"customers_clean.csv\",index=False)\n",
    "df_articles.to_csv(\"articles_clean.csv\", index=False)"
   ]
  },
  {
   "cell_type": "code",
   "execution_count": 175,
   "id": "9c527275",
   "metadata": {},
   "outputs": [],
   "source": [
    "df=pd.merge(left=df_cust,right=df_trx,on=\"customer_id\",how=\"left\")\n",
    "df=pd.merge(left=df,right=df_articles,on='article_id',how='left')"
   ]
  },
  {
   "cell_type": "code",
   "execution_count": 176,
   "id": "4ad2305b",
   "metadata": {},
   "outputs": [
    {
     "name": "stdout",
     "output_type": "stream",
     "text": [
      "<class 'pandas.core.frame.DataFrame'>\n",
      "Int64Index: 31798023 entries, 0 to 31798022\n",
      "Data columns (total 35 columns):\n",
      " #   Column                        Dtype  \n",
      "---  ------                        -----  \n",
      " 0   customer_id                   object \n",
      " 1   FN                            float64\n",
      " 2   Active                        float64\n",
      " 3   club_member_status            object \n",
      " 4   fashion_news_frequency        object \n",
      " 5   age                           float64\n",
      " 6   postal_code                   object \n",
      " 7   t_dat                         object \n",
      " 8   article_id                    float64\n",
      " 9   price                         float64\n",
      " 10  sales_channel_id              float64\n",
      " 11  product_code                  float64\n",
      " 12  prod_name                     object \n",
      " 13  product_type_no               float64\n",
      " 14  product_type_name             object \n",
      " 15  product_group_name            object \n",
      " 16  graphical_appearance_no       float64\n",
      " 17  graphical_appearance_name     object \n",
      " 18  colour_group_code             float64\n",
      " 19  colour_group_name             object \n",
      " 20  perceived_colour_value_id     float64\n",
      " 21  perceived_colour_value_name   object \n",
      " 22  perceived_colour_master_id    float64\n",
      " 23  perceived_colour_master_name  object \n",
      " 24  department_no                 float64\n",
      " 25  department_name               object \n",
      " 26  index_code                    object \n",
      " 27  index_name                    object \n",
      " 28  index_group_no                float64\n",
      " 29  index_group_name              object \n",
      " 30  section_no                    float64\n",
      " 31  section_name                  object \n",
      " 32  garment_group_no              float64\n",
      " 33  garment_group_name            object \n",
      " 34  detail_desc                   object \n",
      "dtypes: float64(16), object(19)\n",
      "memory usage: 8.5+ GB\n"
     ]
    }
   ],
   "source": [
    "df.info()"
   ]
  },
  {
   "cell_type": "code",
   "execution_count": 177,
   "id": "231de244",
   "metadata": {},
   "outputs": [
    {
     "data": {
      "text/plain": [
       "customer_id                     1371980\n",
       "FN                                    2\n",
       "Active                                2\n",
       "club_member_status                    3\n",
       "fashion_news_frequency                3\n",
       "age                                  84\n",
       "postal_code                      352899\n",
       "t_dat                               734\n",
       "article_id                       104547\n",
       "price                              9857\n",
       "sales_channel_id                      2\n",
       "product_code                      46834\n",
       "prod_name                         45508\n",
       "product_type_no                     131\n",
       "product_type_name                   130\n",
       "product_group_name                   19\n",
       "graphical_appearance_no              30\n",
       "graphical_appearance_name            30\n",
       "colour_group_code                    50\n",
       "colour_group_name                    50\n",
       "perceived_colour_value_id             8\n",
       "perceived_colour_value_name           8\n",
       "perceived_colour_master_id           20\n",
       "perceived_colour_master_name         20\n",
       "department_no                       299\n",
       "department_name                     250\n",
       "index_code                           10\n",
       "index_name                           10\n",
       "index_group_no                        5\n",
       "index_group_name                      5\n",
       "section_no                           57\n",
       "section_name                         56\n",
       "garment_group_no                     21\n",
       "garment_group_name                   21\n",
       "detail_desc                       43033\n",
       "dtype: int64"
      ]
     },
     "execution_count": 177,
     "metadata": {},
     "output_type": "execute_result"
    }
   ],
   "source": [
    "df.nunique()"
   ]
  },
  {
   "cell_type": "code",
   "execution_count": 178,
   "id": "36b9f25b",
   "metadata": {},
   "outputs": [
    {
     "data": {
      "text/html": [
       "<div>\n",
       "<style scoped>\n",
       "    .dataframe tbody tr th:only-of-type {\n",
       "        vertical-align: middle;\n",
       "    }\n",
       "\n",
       "    .dataframe tbody tr th {\n",
       "        vertical-align: top;\n",
       "    }\n",
       "\n",
       "    .dataframe thead th {\n",
       "        text-align: right;\n",
       "    }\n",
       "</style>\n",
       "<table border=\"1\" class=\"dataframe\">\n",
       "  <thead>\n",
       "    <tr style=\"text-align: right;\">\n",
       "      <th></th>\n",
       "      <th>customer_id</th>\n",
       "      <th>FN</th>\n",
       "      <th>Active</th>\n",
       "      <th>club_member_status</th>\n",
       "      <th>fashion_news_frequency</th>\n",
       "      <th>age</th>\n",
       "      <th>postal_code</th>\n",
       "      <th>t_dat</th>\n",
       "      <th>article_id</th>\n",
       "      <th>price</th>\n",
       "      <th>...</th>\n",
       "      <th>department_name</th>\n",
       "      <th>index_code</th>\n",
       "      <th>index_name</th>\n",
       "      <th>index_group_no</th>\n",
       "      <th>index_group_name</th>\n",
       "      <th>section_no</th>\n",
       "      <th>section_name</th>\n",
       "      <th>garment_group_no</th>\n",
       "      <th>garment_group_name</th>\n",
       "      <th>detail_desc</th>\n",
       "    </tr>\n",
       "  </thead>\n",
       "  <tbody>\n",
       "    <tr>\n",
       "      <th>0</th>\n",
       "      <td>00000dbacae5abe5e23885899a1fa44253a17956c6d1c3...</td>\n",
       "      <td>0.0</td>\n",
       "      <td>0.0</td>\n",
       "      <td>ACTIVE</td>\n",
       "      <td>NONE</td>\n",
       "      <td>49.0</td>\n",
       "      <td>52043ee2162cf5aa7ee79974281641c6f11a68d276429a...</td>\n",
       "      <td>2018-12-27</td>\n",
       "      <td>625548001.0</td>\n",
       "      <td>0.044051</td>\n",
       "      <td>...</td>\n",
       "      <td>Young Boy Outdoor</td>\n",
       "      <td>I</td>\n",
       "      <td>Children Sizes 134-170</td>\n",
       "      <td>4.0</td>\n",
       "      <td>Baby/Children</td>\n",
       "      <td>45.0</td>\n",
       "      <td>Kids Outerwear</td>\n",
       "      <td>1007.0</td>\n",
       "      <td>Outdoor</td>\n",
       "      <td>Padded jacket with a detachable hood, stand-up...</td>\n",
       "    </tr>\n",
       "    <tr>\n",
       "      <th>1</th>\n",
       "      <td>00000dbacae5abe5e23885899a1fa44253a17956c6d1c3...</td>\n",
       "      <td>0.0</td>\n",
       "      <td>0.0</td>\n",
       "      <td>ACTIVE</td>\n",
       "      <td>NONE</td>\n",
       "      <td>49.0</td>\n",
       "      <td>52043ee2162cf5aa7ee79974281641c6f11a68d276429a...</td>\n",
       "      <td>2018-12-27</td>\n",
       "      <td>176209023.0</td>\n",
       "      <td>0.035576</td>\n",
       "      <td>...</td>\n",
       "      <td>Jacket Street</td>\n",
       "      <td>F</td>\n",
       "      <td>Menswear</td>\n",
       "      <td>3.0</td>\n",
       "      <td>Menswear</td>\n",
       "      <td>31.0</td>\n",
       "      <td>Mens Outerwear</td>\n",
       "      <td>1007.0</td>\n",
       "      <td>Outdoor</td>\n",
       "      <td>Short, padded jacket with a jersey-lined hood ...</td>\n",
       "    </tr>\n",
       "    <tr>\n",
       "      <th>2</th>\n",
       "      <td>00000dbacae5abe5e23885899a1fa44253a17956c6d1c3...</td>\n",
       "      <td>0.0</td>\n",
       "      <td>0.0</td>\n",
       "      <td>ACTIVE</td>\n",
       "      <td>NONE</td>\n",
       "      <td>49.0</td>\n",
       "      <td>52043ee2162cf5aa7ee79974281641c6f11a68d276429a...</td>\n",
       "      <td>2018-12-27</td>\n",
       "      <td>627759010.0</td>\n",
       "      <td>0.030492</td>\n",
       "      <td>...</td>\n",
       "      <td>Kids Girl Outdoor</td>\n",
       "      <td>H</td>\n",
       "      <td>Children Sizes 92-140</td>\n",
       "      <td>4.0</td>\n",
       "      <td>Baby/Children</td>\n",
       "      <td>45.0</td>\n",
       "      <td>Kids Outerwear</td>\n",
       "      <td>1007.0</td>\n",
       "      <td>Outdoor</td>\n",
       "      <td>Padded parka in woven fabric with a soft, brus...</td>\n",
       "    </tr>\n",
       "    <tr>\n",
       "      <th>3</th>\n",
       "      <td>00000dbacae5abe5e23885899a1fa44253a17956c6d1c3...</td>\n",
       "      <td>0.0</td>\n",
       "      <td>0.0</td>\n",
       "      <td>ACTIVE</td>\n",
       "      <td>NONE</td>\n",
       "      <td>49.0</td>\n",
       "      <td>52043ee2162cf5aa7ee79974281641c6f11a68d276429a...</td>\n",
       "      <td>2019-05-02</td>\n",
       "      <td>697138006.0</td>\n",
       "      <td>0.010153</td>\n",
       "      <td>...</td>\n",
       "      <td>Kids Girl Jersey Fancy</td>\n",
       "      <td>H</td>\n",
       "      <td>Children Sizes 92-140</td>\n",
       "      <td>4.0</td>\n",
       "      <td>Baby/Children</td>\n",
       "      <td>76.0</td>\n",
       "      <td>Kids Girl</td>\n",
       "      <td>1005.0</td>\n",
       "      <td>Jersey Fancy</td>\n",
       "      <td>Playsuit in cotton jersey with butterfly sleev...</td>\n",
       "    </tr>\n",
       "    <tr>\n",
       "      <th>4</th>\n",
       "      <td>00000dbacae5abe5e23885899a1fa44253a17956c6d1c3...</td>\n",
       "      <td>0.0</td>\n",
       "      <td>0.0</td>\n",
       "      <td>ACTIVE</td>\n",
       "      <td>NONE</td>\n",
       "      <td>49.0</td>\n",
       "      <td>52043ee2162cf5aa7ee79974281641c6f11a68d276429a...</td>\n",
       "      <td>2019-05-25</td>\n",
       "      <td>568601006.0</td>\n",
       "      <td>0.050831</td>\n",
       "      <td>...</td>\n",
       "      <td>Suit</td>\n",
       "      <td>A</td>\n",
       "      <td>Ladieswear</td>\n",
       "      <td>1.0</td>\n",
       "      <td>Ladieswear</td>\n",
       "      <td>11.0</td>\n",
       "      <td>Womens Tailoring</td>\n",
       "      <td>1008.0</td>\n",
       "      <td>Dressed</td>\n",
       "      <td>Fitted jacket in woven fabric with notch lapel...</td>\n",
       "    </tr>\n",
       "  </tbody>\n",
       "</table>\n",
       "<p>5 rows × 35 columns</p>\n",
       "</div>"
      ],
      "text/plain": [
       "                                         customer_id   FN  Active  \\\n",
       "0  00000dbacae5abe5e23885899a1fa44253a17956c6d1c3...  0.0     0.0   \n",
       "1  00000dbacae5abe5e23885899a1fa44253a17956c6d1c3...  0.0     0.0   \n",
       "2  00000dbacae5abe5e23885899a1fa44253a17956c6d1c3...  0.0     0.0   \n",
       "3  00000dbacae5abe5e23885899a1fa44253a17956c6d1c3...  0.0     0.0   \n",
       "4  00000dbacae5abe5e23885899a1fa44253a17956c6d1c3...  0.0     0.0   \n",
       "\n",
       "  club_member_status fashion_news_frequency   age  \\\n",
       "0             ACTIVE                   NONE  49.0   \n",
       "1             ACTIVE                   NONE  49.0   \n",
       "2             ACTIVE                   NONE  49.0   \n",
       "3             ACTIVE                   NONE  49.0   \n",
       "4             ACTIVE                   NONE  49.0   \n",
       "\n",
       "                                         postal_code       t_dat   article_id  \\\n",
       "0  52043ee2162cf5aa7ee79974281641c6f11a68d276429a...  2018-12-27  625548001.0   \n",
       "1  52043ee2162cf5aa7ee79974281641c6f11a68d276429a...  2018-12-27  176209023.0   \n",
       "2  52043ee2162cf5aa7ee79974281641c6f11a68d276429a...  2018-12-27  627759010.0   \n",
       "3  52043ee2162cf5aa7ee79974281641c6f11a68d276429a...  2019-05-02  697138006.0   \n",
       "4  52043ee2162cf5aa7ee79974281641c6f11a68d276429a...  2019-05-25  568601006.0   \n",
       "\n",
       "      price  ...         department_name  index_code              index_name  \\\n",
       "0  0.044051  ...       Young Boy Outdoor           I  Children Sizes 134-170   \n",
       "1  0.035576  ...           Jacket Street           F                Menswear   \n",
       "2  0.030492  ...       Kids Girl Outdoor           H   Children Sizes 92-140   \n",
       "3  0.010153  ...  Kids Girl Jersey Fancy           H   Children Sizes 92-140   \n",
       "4  0.050831  ...                    Suit           A              Ladieswear   \n",
       "\n",
       "   index_group_no index_group_name section_no      section_name  \\\n",
       "0             4.0    Baby/Children       45.0    Kids Outerwear   \n",
       "1             3.0         Menswear       31.0    Mens Outerwear   \n",
       "2             4.0    Baby/Children       45.0    Kids Outerwear   \n",
       "3             4.0    Baby/Children       76.0         Kids Girl   \n",
       "4             1.0       Ladieswear       11.0  Womens Tailoring   \n",
       "\n",
       "  garment_group_no  garment_group_name  \\\n",
       "0           1007.0             Outdoor   \n",
       "1           1007.0             Outdoor   \n",
       "2           1007.0             Outdoor   \n",
       "3           1005.0        Jersey Fancy   \n",
       "4           1008.0             Dressed   \n",
       "\n",
       "                                         detail_desc  \n",
       "0  Padded jacket with a detachable hood, stand-up...  \n",
       "1  Short, padded jacket with a jersey-lined hood ...  \n",
       "2  Padded parka in woven fabric with a soft, brus...  \n",
       "3  Playsuit in cotton jersey with butterfly sleev...  \n",
       "4  Fitted jacket in woven fabric with notch lapel...  \n",
       "\n",
       "[5 rows x 35 columns]"
      ]
     },
     "execution_count": 178,
     "metadata": {},
     "output_type": "execute_result"
    }
   ],
   "source": [
    "df.head()"
   ]
  },
  {
   "cell_type": "markdown",
   "id": "bad16262",
   "metadata": {},
   "source": [
    "already created the csv file"
   ]
  },
  {
   "cell_type": "code",
   "execution_count": 179,
   "id": "b82f527d",
   "metadata": {},
   "outputs": [],
   "source": [
    "#df.to_csv(\"combined_data.csv\",index=False)"
   ]
  },
  {
   "cell_type": "markdown",
   "id": "68698f78",
   "metadata": {},
   "source": [
    "## Code to generate smaller data set, its already created"
   ]
  },
  {
   "cell_type": "code",
   "execution_count": 180,
   "id": "c1ace225",
   "metadata": {},
   "outputs": [],
   "source": [
    "#df = pd.read_csv(\"combined_data.csv\")"
   ]
  },
  {
   "cell_type": "code",
   "execution_count": 181,
   "id": "1662f275",
   "metadata": {},
   "outputs": [
    {
     "data": {
      "text/html": [
       "<div>\n",
       "<style scoped>\n",
       "    .dataframe tbody tr th:only-of-type {\n",
       "        vertical-align: middle;\n",
       "    }\n",
       "\n",
       "    .dataframe tbody tr th {\n",
       "        vertical-align: top;\n",
       "    }\n",
       "\n",
       "    .dataframe thead th {\n",
       "        text-align: right;\n",
       "    }\n",
       "</style>\n",
       "<table border=\"1\" class=\"dataframe\">\n",
       "  <thead>\n",
       "    <tr style=\"text-align: right;\">\n",
       "      <th></th>\n",
       "      <th>customer_id</th>\n",
       "      <th>FN</th>\n",
       "      <th>Active</th>\n",
       "      <th>club_member_status</th>\n",
       "      <th>fashion_news_frequency</th>\n",
       "      <th>age</th>\n",
       "      <th>postal_code</th>\n",
       "      <th>t_dat</th>\n",
       "      <th>article_id</th>\n",
       "      <th>price</th>\n",
       "      <th>...</th>\n",
       "      <th>department_name</th>\n",
       "      <th>index_code</th>\n",
       "      <th>index_name</th>\n",
       "      <th>index_group_no</th>\n",
       "      <th>index_group_name</th>\n",
       "      <th>section_no</th>\n",
       "      <th>section_name</th>\n",
       "      <th>garment_group_no</th>\n",
       "      <th>garment_group_name</th>\n",
       "      <th>detail_desc</th>\n",
       "    </tr>\n",
       "  </thead>\n",
       "  <tbody>\n",
       "    <tr>\n",
       "      <th>0</th>\n",
       "      <td>00000dbacae5abe5e23885899a1fa44253a17956c6d1c3...</td>\n",
       "      <td>0.0</td>\n",
       "      <td>0.0</td>\n",
       "      <td>ACTIVE</td>\n",
       "      <td>NONE</td>\n",
       "      <td>49.0</td>\n",
       "      <td>52043ee2162cf5aa7ee79974281641c6f11a68d276429a...</td>\n",
       "      <td>2018-12-27</td>\n",
       "      <td>625548001.0</td>\n",
       "      <td>0.044051</td>\n",
       "      <td>...</td>\n",
       "      <td>Young Boy Outdoor</td>\n",
       "      <td>I</td>\n",
       "      <td>Children Sizes 134-170</td>\n",
       "      <td>4.0</td>\n",
       "      <td>Baby/Children</td>\n",
       "      <td>45.0</td>\n",
       "      <td>Kids Outerwear</td>\n",
       "      <td>1007.0</td>\n",
       "      <td>Outdoor</td>\n",
       "      <td>Padded jacket with a detachable hood, stand-up...</td>\n",
       "    </tr>\n",
       "    <tr>\n",
       "      <th>1</th>\n",
       "      <td>00000dbacae5abe5e23885899a1fa44253a17956c6d1c3...</td>\n",
       "      <td>0.0</td>\n",
       "      <td>0.0</td>\n",
       "      <td>ACTIVE</td>\n",
       "      <td>NONE</td>\n",
       "      <td>49.0</td>\n",
       "      <td>52043ee2162cf5aa7ee79974281641c6f11a68d276429a...</td>\n",
       "      <td>2018-12-27</td>\n",
       "      <td>176209023.0</td>\n",
       "      <td>0.035576</td>\n",
       "      <td>...</td>\n",
       "      <td>Jacket Street</td>\n",
       "      <td>F</td>\n",
       "      <td>Menswear</td>\n",
       "      <td>3.0</td>\n",
       "      <td>Menswear</td>\n",
       "      <td>31.0</td>\n",
       "      <td>Mens Outerwear</td>\n",
       "      <td>1007.0</td>\n",
       "      <td>Outdoor</td>\n",
       "      <td>Short, padded jacket with a jersey-lined hood ...</td>\n",
       "    </tr>\n",
       "    <tr>\n",
       "      <th>2</th>\n",
       "      <td>00000dbacae5abe5e23885899a1fa44253a17956c6d1c3...</td>\n",
       "      <td>0.0</td>\n",
       "      <td>0.0</td>\n",
       "      <td>ACTIVE</td>\n",
       "      <td>NONE</td>\n",
       "      <td>49.0</td>\n",
       "      <td>52043ee2162cf5aa7ee79974281641c6f11a68d276429a...</td>\n",
       "      <td>2018-12-27</td>\n",
       "      <td>627759010.0</td>\n",
       "      <td>0.030492</td>\n",
       "      <td>...</td>\n",
       "      <td>Kids Girl Outdoor</td>\n",
       "      <td>H</td>\n",
       "      <td>Children Sizes 92-140</td>\n",
       "      <td>4.0</td>\n",
       "      <td>Baby/Children</td>\n",
       "      <td>45.0</td>\n",
       "      <td>Kids Outerwear</td>\n",
       "      <td>1007.0</td>\n",
       "      <td>Outdoor</td>\n",
       "      <td>Padded parka in woven fabric with a soft, brus...</td>\n",
       "    </tr>\n",
       "    <tr>\n",
       "      <th>3</th>\n",
       "      <td>00000dbacae5abe5e23885899a1fa44253a17956c6d1c3...</td>\n",
       "      <td>0.0</td>\n",
       "      <td>0.0</td>\n",
       "      <td>ACTIVE</td>\n",
       "      <td>NONE</td>\n",
       "      <td>49.0</td>\n",
       "      <td>52043ee2162cf5aa7ee79974281641c6f11a68d276429a...</td>\n",
       "      <td>2019-05-02</td>\n",
       "      <td>697138006.0</td>\n",
       "      <td>0.010153</td>\n",
       "      <td>...</td>\n",
       "      <td>Kids Girl Jersey Fancy</td>\n",
       "      <td>H</td>\n",
       "      <td>Children Sizes 92-140</td>\n",
       "      <td>4.0</td>\n",
       "      <td>Baby/Children</td>\n",
       "      <td>76.0</td>\n",
       "      <td>Kids Girl</td>\n",
       "      <td>1005.0</td>\n",
       "      <td>Jersey Fancy</td>\n",
       "      <td>Playsuit in cotton jersey with butterfly sleev...</td>\n",
       "    </tr>\n",
       "    <tr>\n",
       "      <th>4</th>\n",
       "      <td>00000dbacae5abe5e23885899a1fa44253a17956c6d1c3...</td>\n",
       "      <td>0.0</td>\n",
       "      <td>0.0</td>\n",
       "      <td>ACTIVE</td>\n",
       "      <td>NONE</td>\n",
       "      <td>49.0</td>\n",
       "      <td>52043ee2162cf5aa7ee79974281641c6f11a68d276429a...</td>\n",
       "      <td>2019-05-25</td>\n",
       "      <td>568601006.0</td>\n",
       "      <td>0.050831</td>\n",
       "      <td>...</td>\n",
       "      <td>Suit</td>\n",
       "      <td>A</td>\n",
       "      <td>Ladieswear</td>\n",
       "      <td>1.0</td>\n",
       "      <td>Ladieswear</td>\n",
       "      <td>11.0</td>\n",
       "      <td>Womens Tailoring</td>\n",
       "      <td>1008.0</td>\n",
       "      <td>Dressed</td>\n",
       "      <td>Fitted jacket in woven fabric with notch lapel...</td>\n",
       "    </tr>\n",
       "  </tbody>\n",
       "</table>\n",
       "<p>5 rows × 35 columns</p>\n",
       "</div>"
      ],
      "text/plain": [
       "                                         customer_id   FN  Active  \\\n",
       "0  00000dbacae5abe5e23885899a1fa44253a17956c6d1c3...  0.0     0.0   \n",
       "1  00000dbacae5abe5e23885899a1fa44253a17956c6d1c3...  0.0     0.0   \n",
       "2  00000dbacae5abe5e23885899a1fa44253a17956c6d1c3...  0.0     0.0   \n",
       "3  00000dbacae5abe5e23885899a1fa44253a17956c6d1c3...  0.0     0.0   \n",
       "4  00000dbacae5abe5e23885899a1fa44253a17956c6d1c3...  0.0     0.0   \n",
       "\n",
       "  club_member_status fashion_news_frequency   age  \\\n",
       "0             ACTIVE                   NONE  49.0   \n",
       "1             ACTIVE                   NONE  49.0   \n",
       "2             ACTIVE                   NONE  49.0   \n",
       "3             ACTIVE                   NONE  49.0   \n",
       "4             ACTIVE                   NONE  49.0   \n",
       "\n",
       "                                         postal_code       t_dat   article_id  \\\n",
       "0  52043ee2162cf5aa7ee79974281641c6f11a68d276429a...  2018-12-27  625548001.0   \n",
       "1  52043ee2162cf5aa7ee79974281641c6f11a68d276429a...  2018-12-27  176209023.0   \n",
       "2  52043ee2162cf5aa7ee79974281641c6f11a68d276429a...  2018-12-27  627759010.0   \n",
       "3  52043ee2162cf5aa7ee79974281641c6f11a68d276429a...  2019-05-02  697138006.0   \n",
       "4  52043ee2162cf5aa7ee79974281641c6f11a68d276429a...  2019-05-25  568601006.0   \n",
       "\n",
       "      price  ...         department_name  index_code              index_name  \\\n",
       "0  0.044051  ...       Young Boy Outdoor           I  Children Sizes 134-170   \n",
       "1  0.035576  ...           Jacket Street           F                Menswear   \n",
       "2  0.030492  ...       Kids Girl Outdoor           H   Children Sizes 92-140   \n",
       "3  0.010153  ...  Kids Girl Jersey Fancy           H   Children Sizes 92-140   \n",
       "4  0.050831  ...                    Suit           A              Ladieswear   \n",
       "\n",
       "   index_group_no index_group_name section_no      section_name  \\\n",
       "0             4.0    Baby/Children       45.0    Kids Outerwear   \n",
       "1             3.0         Menswear       31.0    Mens Outerwear   \n",
       "2             4.0    Baby/Children       45.0    Kids Outerwear   \n",
       "3             4.0    Baby/Children       76.0         Kids Girl   \n",
       "4             1.0       Ladieswear       11.0  Womens Tailoring   \n",
       "\n",
       "  garment_group_no  garment_group_name  \\\n",
       "0           1007.0             Outdoor   \n",
       "1           1007.0             Outdoor   \n",
       "2           1007.0             Outdoor   \n",
       "3           1005.0        Jersey Fancy   \n",
       "4           1008.0             Dressed   \n",
       "\n",
       "                                         detail_desc  \n",
       "0  Padded jacket with a detachable hood, stand-up...  \n",
       "1  Short, padded jacket with a jersey-lined hood ...  \n",
       "2  Padded parka in woven fabric with a soft, brus...  \n",
       "3  Playsuit in cotton jersey with butterfly sleev...  \n",
       "4  Fitted jacket in woven fabric with notch lapel...  \n",
       "\n",
       "[5 rows x 35 columns]"
      ]
     },
     "execution_count": 181,
     "metadata": {},
     "output_type": "execute_result"
    }
   ],
   "source": [
    "df.head()"
   ]
  },
  {
   "cell_type": "code",
   "execution_count": 182,
   "id": "9ac61ea1",
   "metadata": {},
   "outputs": [],
   "source": [
    "#small_set = df.loc[df['customer_id'].isin(['00c160fd797be9c52491373b16ec194d4edb129c57266e85e65bb9814a25490d', '0284d10c3374ded9756bd9efeff7f6c8a2f31391364102701297e67d0886035d', '073da0c6e0c8538bc435967da0251054e48217687589a32dc9260734eeecf5da','0863b92e036a35df88e1dc6eb34b161a79d63c14c15601bdf80bab2ecb4bc454'])]"
   ]
  },
  {
   "cell_type": "code",
   "execution_count": 183,
   "id": "69c8e49d",
   "metadata": {},
   "outputs": [],
   "source": [
    "#small_set.to_csv(\"smallset.csv\",index=False)"
   ]
  },
  {
   "cell_type": "markdown",
   "id": "bf7bbd0c",
   "metadata": {},
   "source": [
    "## Testing smaller dataset of 700 entries"
   ]
  },
  {
   "cell_type": "code",
   "execution_count": 184,
   "id": "881e5967",
   "metadata": {},
   "outputs": [],
   "source": [
    "df = pd.read_csv(\"smallset.csv\")"
   ]
  },
  {
   "cell_type": "code",
   "execution_count": 185,
   "id": "00f9c52e",
   "metadata": {},
   "outputs": [
    {
     "data": {
      "text/html": [
       "<div>\n",
       "<style scoped>\n",
       "    .dataframe tbody tr th:only-of-type {\n",
       "        vertical-align: middle;\n",
       "    }\n",
       "\n",
       "    .dataframe tbody tr th {\n",
       "        vertical-align: top;\n",
       "    }\n",
       "\n",
       "    .dataframe thead th {\n",
       "        text-align: right;\n",
       "    }\n",
       "</style>\n",
       "<table border=\"1\" class=\"dataframe\">\n",
       "  <thead>\n",
       "    <tr style=\"text-align: right;\">\n",
       "      <th></th>\n",
       "      <th>customer_id</th>\n",
       "      <th>FN</th>\n",
       "      <th>Active</th>\n",
       "      <th>club_member_status</th>\n",
       "      <th>fashion_news_frequency</th>\n",
       "      <th>age</th>\n",
       "      <th>postal_code</th>\n",
       "      <th>t_dat</th>\n",
       "      <th>article_id</th>\n",
       "      <th>price</th>\n",
       "      <th>...</th>\n",
       "      <th>department_name</th>\n",
       "      <th>index_code</th>\n",
       "      <th>index_name</th>\n",
       "      <th>index_group_no</th>\n",
       "      <th>index_group_name</th>\n",
       "      <th>section_no</th>\n",
       "      <th>section_name</th>\n",
       "      <th>garment_group_no</th>\n",
       "      <th>garment_group_name</th>\n",
       "      <th>detail_desc</th>\n",
       "    </tr>\n",
       "  </thead>\n",
       "  <tbody>\n",
       "    <tr>\n",
       "      <th>724</th>\n",
       "      <td>0863b92e036a35df88e1dc6eb34b161a79d63c14c15601...</td>\n",
       "      <td>0.0</td>\n",
       "      <td>0.0</td>\n",
       "      <td>ACTIVE</td>\n",
       "      <td>NONE</td>\n",
       "      <td>27.0</td>\n",
       "      <td>bb3bdf0dcd8677549584823cc95f67b8aafb547d941500...</td>\n",
       "      <td>2020-08-06</td>\n",
       "      <td>831777004.0</td>\n",
       "      <td>0.011847</td>\n",
       "      <td>...</td>\n",
       "      <td>Blouse</td>\n",
       "      <td>A</td>\n",
       "      <td>Ladieswear</td>\n",
       "      <td>1.0</td>\n",
       "      <td>Ladieswear</td>\n",
       "      <td>15.0</td>\n",
       "      <td>Womens Everyday Collection</td>\n",
       "      <td>1010.0</td>\n",
       "      <td>Blouses</td>\n",
       "      <td>Top in a softly draping weave with a V-neck fr...</td>\n",
       "    </tr>\n",
       "    <tr>\n",
       "      <th>725</th>\n",
       "      <td>0863b92e036a35df88e1dc6eb34b161a79d63c14c15601...</td>\n",
       "      <td>0.0</td>\n",
       "      <td>0.0</td>\n",
       "      <td>ACTIVE</td>\n",
       "      <td>NONE</td>\n",
       "      <td>27.0</td>\n",
       "      <td>bb3bdf0dcd8677549584823cc95f67b8aafb547d941500...</td>\n",
       "      <td>2020-08-06</td>\n",
       "      <td>834383002.0</td>\n",
       "      <td>0.042356</td>\n",
       "      <td>...</td>\n",
       "      <td>Dress</td>\n",
       "      <td>A</td>\n",
       "      <td>Ladieswear</td>\n",
       "      <td>1.0</td>\n",
       "      <td>Ladieswear</td>\n",
       "      <td>15.0</td>\n",
       "      <td>Womens Everyday Collection</td>\n",
       "      <td>1013.0</td>\n",
       "      <td>Dresses Ladies</td>\n",
       "      <td>Short, sleeveless dress in sturdy satin with a...</td>\n",
       "    </tr>\n",
       "    <tr>\n",
       "      <th>726</th>\n",
       "      <td>0863b92e036a35df88e1dc6eb34b161a79d63c14c15601...</td>\n",
       "      <td>0.0</td>\n",
       "      <td>0.0</td>\n",
       "      <td>ACTIVE</td>\n",
       "      <td>NONE</td>\n",
       "      <td>27.0</td>\n",
       "      <td>bb3bdf0dcd8677549584823cc95f67b8aafb547d941500...</td>\n",
       "      <td>2020-08-06</td>\n",
       "      <td>714026020.0</td>\n",
       "      <td>0.025407</td>\n",
       "      <td>...</td>\n",
       "      <td>Trouser S&amp;T</td>\n",
       "      <td>F</td>\n",
       "      <td>Menswear</td>\n",
       "      <td>3.0</td>\n",
       "      <td>Menswear</td>\n",
       "      <td>23.0</td>\n",
       "      <td>Men Suits &amp; Tailoring</td>\n",
       "      <td>1009.0</td>\n",
       "      <td>Trousers</td>\n",
       "      <td>Suit trousers in woven fabric with a concealed...</td>\n",
       "    </tr>\n",
       "    <tr>\n",
       "      <th>727</th>\n",
       "      <td>0863b92e036a35df88e1dc6eb34b161a79d63c14c15601...</td>\n",
       "      <td>0.0</td>\n",
       "      <td>0.0</td>\n",
       "      <td>ACTIVE</td>\n",
       "      <td>NONE</td>\n",
       "      <td>27.0</td>\n",
       "      <td>bb3bdf0dcd8677549584823cc95f67b8aafb547d941500...</td>\n",
       "      <td>2020-08-06</td>\n",
       "      <td>714026020.0</td>\n",
       "      <td>0.025407</td>\n",
       "      <td>...</td>\n",
       "      <td>Trouser S&amp;T</td>\n",
       "      <td>F</td>\n",
       "      <td>Menswear</td>\n",
       "      <td>3.0</td>\n",
       "      <td>Menswear</td>\n",
       "      <td>23.0</td>\n",
       "      <td>Men Suits &amp; Tailoring</td>\n",
       "      <td>1009.0</td>\n",
       "      <td>Trousers</td>\n",
       "      <td>Suit trousers in woven fabric with a concealed...</td>\n",
       "    </tr>\n",
       "    <tr>\n",
       "      <th>728</th>\n",
       "      <td>0863b92e036a35df88e1dc6eb34b161a79d63c14c15601...</td>\n",
       "      <td>0.0</td>\n",
       "      <td>0.0</td>\n",
       "      <td>ACTIVE</td>\n",
       "      <td>NONE</td>\n",
       "      <td>27.0</td>\n",
       "      <td>bb3bdf0dcd8677549584823cc95f67b8aafb547d941500...</td>\n",
       "      <td>2020-08-06</td>\n",
       "      <td>892337003.0</td>\n",
       "      <td>0.101678</td>\n",
       "      <td>...</td>\n",
       "      <td>Trouser S&amp;T</td>\n",
       "      <td>F</td>\n",
       "      <td>Menswear</td>\n",
       "      <td>3.0</td>\n",
       "      <td>Menswear</td>\n",
       "      <td>23.0</td>\n",
       "      <td>Men Suits &amp; Tailoring</td>\n",
       "      <td>1009.0</td>\n",
       "      <td>Trousers</td>\n",
       "      <td>Suit trousers in superstretch fabric made from...</td>\n",
       "    </tr>\n",
       "  </tbody>\n",
       "</table>\n",
       "<p>5 rows × 35 columns</p>\n",
       "</div>"
      ],
      "text/plain": [
       "                                           customer_id   FN  Active  \\\n",
       "724  0863b92e036a35df88e1dc6eb34b161a79d63c14c15601...  0.0     0.0   \n",
       "725  0863b92e036a35df88e1dc6eb34b161a79d63c14c15601...  0.0     0.0   \n",
       "726  0863b92e036a35df88e1dc6eb34b161a79d63c14c15601...  0.0     0.0   \n",
       "727  0863b92e036a35df88e1dc6eb34b161a79d63c14c15601...  0.0     0.0   \n",
       "728  0863b92e036a35df88e1dc6eb34b161a79d63c14c15601...  0.0     0.0   \n",
       "\n",
       "    club_member_status fashion_news_frequency   age  \\\n",
       "724             ACTIVE                   NONE  27.0   \n",
       "725             ACTIVE                   NONE  27.0   \n",
       "726             ACTIVE                   NONE  27.0   \n",
       "727             ACTIVE                   NONE  27.0   \n",
       "728             ACTIVE                   NONE  27.0   \n",
       "\n",
       "                                           postal_code       t_dat  \\\n",
       "724  bb3bdf0dcd8677549584823cc95f67b8aafb547d941500...  2020-08-06   \n",
       "725  bb3bdf0dcd8677549584823cc95f67b8aafb547d941500...  2020-08-06   \n",
       "726  bb3bdf0dcd8677549584823cc95f67b8aafb547d941500...  2020-08-06   \n",
       "727  bb3bdf0dcd8677549584823cc95f67b8aafb547d941500...  2020-08-06   \n",
       "728  bb3bdf0dcd8677549584823cc95f67b8aafb547d941500...  2020-08-06   \n",
       "\n",
       "      article_id     price  ...  department_name  index_code  index_name  \\\n",
       "724  831777004.0  0.011847  ...           Blouse           A  Ladieswear   \n",
       "725  834383002.0  0.042356  ...            Dress           A  Ladieswear   \n",
       "726  714026020.0  0.025407  ...      Trouser S&T           F    Menswear   \n",
       "727  714026020.0  0.025407  ...      Trouser S&T           F    Menswear   \n",
       "728  892337003.0  0.101678  ...      Trouser S&T           F    Menswear   \n",
       "\n",
       "     index_group_no index_group_name section_no                section_name  \\\n",
       "724             1.0       Ladieswear       15.0  Womens Everyday Collection   \n",
       "725             1.0       Ladieswear       15.0  Womens Everyday Collection   \n",
       "726             3.0         Menswear       23.0       Men Suits & Tailoring   \n",
       "727             3.0         Menswear       23.0       Men Suits & Tailoring   \n",
       "728             3.0         Menswear       23.0       Men Suits & Tailoring   \n",
       "\n",
       "    garment_group_no  garment_group_name  \\\n",
       "724           1010.0             Blouses   \n",
       "725           1013.0      Dresses Ladies   \n",
       "726           1009.0            Trousers   \n",
       "727           1009.0            Trousers   \n",
       "728           1009.0            Trousers   \n",
       "\n",
       "                                           detail_desc  \n",
       "724  Top in a softly draping weave with a V-neck fr...  \n",
       "725  Short, sleeveless dress in sturdy satin with a...  \n",
       "726  Suit trousers in woven fabric with a concealed...  \n",
       "727  Suit trousers in woven fabric with a concealed...  \n",
       "728  Suit trousers in superstretch fabric made from...  \n",
       "\n",
       "[5 rows x 35 columns]"
      ]
     },
     "execution_count": 185,
     "metadata": {},
     "output_type": "execute_result"
    }
   ],
   "source": [
    "df.tail()"
   ]
  },
  {
   "cell_type": "code",
   "execution_count": 186,
   "id": "6f9bc0e3",
   "metadata": {},
   "outputs": [],
   "source": [
    "df.pop(\"detail_desc\")\n",
    "df.columns\n",
    "df1 = df.pop(\"article_id\")\n",
    "df[\"article_id\"] = df1"
   ]
  },
  {
   "cell_type": "code",
   "execution_count": 187,
   "id": "fd89377e",
   "metadata": {},
   "outputs": [],
   "source": [
    "processdf = pd.DataFrame()\n",
    "for col in df.columns:\n",
    "    le = preprocessing.LabelEncoder()\n",
    "    le.fit(df[col])\n",
    "    le_vals = le.transform(df[col])\n",
    "    processdf[col] = le_vals"
   ]
  },
  {
   "cell_type": "markdown",
   "id": "6bb98a77",
   "metadata": {},
   "source": [
    "### Data normalization and scaling"
   ]
  },
  {
   "cell_type": "code",
   "execution_count": 188,
   "id": "6daafc4e",
   "metadata": {},
   "outputs": [
    {
     "name": "stdout",
     "output_type": "stream",
     "text": [
      "[[ 1.637 -1.651 -1.427 ... -1.25  -1.033 -0.731]\n",
      " [ 1.637 -1.651 -1.427 ...  1.321 -0.409  1.077]\n",
      " [-0.674  0.606  0.701 ...  0.831  0.84   1.438]\n",
      " ...\n",
      " [-0.674  0.606  0.701 ...  1.199  1.049  0.896]\n",
      " [-0.674  0.606  0.701 ... -1.25  -0.825 -0.369]\n",
      " [ 1.637 -1.651 -1.427 ...  0.464 -1.033 -0.731]]\n",
      "[[-0.674  0.606  0.701 ...  1.199  1.049  0.896]\n",
      " [-0.674  0.606  0.701 ... -1.372 -1.45  -0.911]\n",
      " [-0.674  0.606  0.701 ...  0.464 -1.033 -0.731]\n",
      " ...\n",
      " [-0.674  0.606  0.701 ...  0.464 -1.242 -0.55 ]\n",
      " [-0.674  0.606  0.701 ... -1.617  1.257 -1.634]\n",
      " [-0.674  0.606  0.701 ...  0.219 -1.242 -0.55 ]]\n",
      "[240  81 530 141 530 303 369 283 141  26 147  15 208  96  51 327 139 523\n",
      " 319 159  33 150 251 107 460 341 469 382 533  47 274 177 279 161 146  48\n",
      " 519 467 190 488 482 344 368 373 256  76 208 386 198 535  85 311 262 165\n",
      " 243 408 343 520 199 349  74 218 253 478 157 166 184 263 103 429  64 445\n",
      " 500 153 423  54 487 501  90 379 253 492   8 193  85  83 263 522 111 129\n",
      " 192 474 315 167 402 345 453 380 310 362 130 187 407 349 354  25 404   8\n",
      " 331 121  39 316 135 446 106 220 370 531 463  62  86 454 355 191 389 375\n",
      " 512  28 127 216 359 256 302  57 320 394 188 148 213 151 116 491 510 405\n",
      " 258 450 255 231 206 122 140 381 425  56 269 152  32 292  87 124 498 422\n",
      " 185 108  66 347 267 357  46 346 372 141 293 118 264 133 312  89 319 182\n",
      "  14 528 238 349 137 387 112 197 112 271 110 323 335 297 117 147 415   4\n",
      "  92  72 101 134 525 239 160 328 292 437 296 287 390 513 326 506  54 156\n",
      " 207 502 375 218 253 184 212 172  43 417   1 196 434 169 114 318 125 216\n",
      "  98 330  43 195 313 242 152 430   5 129 175 132 421 508  30 286  18 189\n",
      " 201 109 125  84 484 321 521 228 397 129  76  31 385 280 365 157 225 418\n",
      " 355 517  63 441  85 158   0  35 299 190 463 298 242 254 365 203 437 255\n",
      " 194 485 184 162 245 381 522 314  11 532 229 412 348  53 207  91 287 427\n",
      " 202 426 518  21 287 181 291  79 392 473 117 449 515 507 109 355 365 441\n",
      " 273  27 352 304 176  97 468 319 338 495 170  76  40  13 282 308  87 367\n",
      " 168 289 357 414 419  99 211  59  59 267 458 174 433 265 210 334  65  14\n",
      " 236 289  36 100 403 369 227 170 277 261  80 416 204 338  56 457 295  45\n",
      " 266  23 421  49  10 359 383 180 353  13 442 449 410 363 437 356 237 477\n",
      " 146 483 433 292 407 441 237 244 306 399 342 383 241 374  91 404 457 183\n",
      " 419 464 534   7 247  95  52 173 309 516  82 200  28 479 475 145 505  92\n",
      " 301 406 382 250 284 325 112  67  27 215 350  44 435 211 509 366 113 288\n",
      "  69 497 355 388 496 223 504 164 102 512 351  59 163 424 324  93 160  20\n",
      "  88 123 272  41 329 373 420 230 178 205 124 497  37 245 349 275 153  29\n",
      "  62 268 262 292 411 300 413 340 428 486  24 393 439 190 317 181 248 190\n",
      " 120  55   3  98  68 221 355 286   7 183 466  34 183 179 426 258 177 471\n",
      "  75 371 112 138 503  94 105 461 493 209 102 486 372 496 358 246 217 431\n",
      " 490  71  35 173 307 370 226 164  45  22 337 514 241 276 480  14 176 278\n",
      " 147 360 318  92 390 173 171 128 459 154 511 119 490  16 391  17 511 232\n",
      " 190  75 451 443 438 364 481 448 190  19 180 462 376 146 144 470 149  14\n",
      " 224 398 378 142 104 401 285 222 290 387 508 472   9 384 483 305 256 259\n",
      " 353 364  61 452 359 170 336  73  46 349 499 201 108 371 174 322 465 257\n",
      " 187 447 506 136 268 476 190 516 390  42   6 131 255 321  58 355  78 444\n",
      " 217 377 252 235 110 195 234 508]\n",
      "[490 432 137 395 409  50 396 529 456 403 481 115   0 109 361 286  86  88\n",
      " 294  84 524  38  70 143 139 214 186 453 444 332 339 233 249  60 281 525\n",
      " 174 126 246 400 455 526 494 129  87 161 253  58 215  12 440 116 207 138\n",
      " 198 276  39 270 528 219  77 489 527 256 484 260 436 167 155   2 128 333\n",
      "  35]\n"
     ]
    }
   ],
   "source": [
    "acc = []\n",
    "X = processdf.iloc[:,:-1].values\n",
    "y = processdf.iloc[:,33].values\n",
    "X_train, X_test, y_train, y_test = train_test_split(X, y, test_size=0.10)\n",
    "scaler = StandardScaler()\n",
    "scaler.fit(X_train)\n",
    "\n",
    "X_train = scaler.transform(X_train)\n",
    "X_test = scaler.transform(X_test)\n",
    "print(X_train)\n",
    "print(X_test)\n",
    "print(y_train)\n",
    "print(y_test)"
   ]
  },
  {
   "cell_type": "markdown",
   "id": "3ae12bf6",
   "metadata": {},
   "source": [
    "### KNN"
   ]
  },
  {
   "cell_type": "code",
   "execution_count": 189,
   "id": "bc1f8dca",
   "metadata": {},
   "outputs": [
    {
     "name": "stdout",
     "output_type": "stream",
     "text": [
      "[490 390  17 318  87 109  37 407 508 127 357 506   0 109 165 287 190  52\n",
      " 177 190 522 129  31  35 253  93 188 337 173 338  92 114 170 241   4 340\n",
      " 174  54 245 441 496 218 383 129  59 146 253 102 267  47 387 146  43 187\n",
      " 164  62   1 187 437 114  66 237 353 256 280 364 413 241 364   1  74 165\n",
      "  35]\n",
      "[490 432 137 395 409  50 396 529 456 403 481 115   0 109 361 286  86  88\n",
      " 294  84 524  38  70 143 139 214 186 453 444 332 339 233 249  60 281 525\n",
      " 174 126 246 400 455 526 494 129  87 161 253  58 215  12 440 116 207 138\n",
      " 198 276  39 270 528 219  77 489 527 256 484 260 436 167 155   2 128 333\n",
      "  35]\n",
      "SciKitLearn\n",
      "KNN\n",
      "[[1 0 0 ... 0 0 0]\n",
      " [0 0 0 ... 0 0 0]\n",
      " [0 1 0 ... 0 0 0]\n",
      " ...\n",
      " [0 0 0 ... 0 0 0]\n",
      " [0 0 0 ... 0 0 0]\n",
      " [0 0 0 ... 0 0 0]]\n",
      "Accuracy, Error\n",
      "0.1095890410958904 0.8904109589041096\n"
     ]
    }
   ],
   "source": [
    "classifier = KNeighborsClassifier(n_neighbors=5)\n",
    "classifier.fit(X_train, y_train)\n",
    "y_pred = classifier.predict(X_test)\n",
    "print(y_pred)\n",
    "print(y_test)\n",
    "print(\"SciKitLearn\")\n",
    "print(\"KNN\")\n",
    "print(confusion_matrix(y_test, y_pred))\n",
    "print(\"Accuracy, Error\")\n",
    "print(accuracy_score(y_test, y_pred), 1 - accuracy_score(y_test, y_pred))\n",
    "acc.append(accuracy_score(y_test, y_pred))"
   ]
  },
  {
   "cell_type": "code",
   "execution_count": 190,
   "id": "5cfa004a",
   "metadata": {},
   "outputs": [
    {
     "name": "stdout",
     "output_type": "stream",
     "text": [
      "[190 255 146 173 190 146 146 190 365 253 508 349 508 349 255 190 190 190\n",
      " 129 190 112 129   7 349 146 190 112 129 190  14  92 190 129 129 129 255\n",
      " 190  85 508 112  14 319 255 129 190 146 349 190 184 112 349 146 146  14\n",
      " 129 129 190  14 349 141 190 319 349 255 390 112 190  14 112 253 146 141\n",
      " 349]\n",
      "[490 432 137 395 409  50 396 529 456 403 481 115   0 109 361 286  86  88\n",
      " 294  84 524  38  70 143 139 214 186 453 444 332 339 233 249  60 281 525\n",
      " 174 126 246 400 455 526 494 129  87 161 253  58 215  12 440 116 207 138\n",
      " 198 276  39 270 528 219  77 489 527 256 484 260 436 167 155   2 128 333\n",
      "  35]\n",
      "SciKitLearn\n",
      "KNN\n",
      "[[0 0 0 ... 0 0 0]\n",
      " [0 0 0 ... 0 0 0]\n",
      " [0 0 0 ... 0 0 0]\n",
      " ...\n",
      " [0 0 0 ... 0 0 0]\n",
      " [0 0 0 ... 0 0 0]\n",
      " [0 0 0 ... 0 0 0]]\n",
      "Accuracy, Error\n",
      "0.0136986301369863 0.9863013698630136\n"
     ]
    }
   ],
   "source": [
    "classifier = KNeighborsClassifier(n_neighbors=100)\n",
    "classifier.fit(X_train, y_train)\n",
    "y_pred = classifier.predict(X_test)\n",
    "print(y_pred)\n",
    "print(y_test)\n",
    "print(\"SciKitLearn\")\n",
    "print(\"KNN\")\n",
    "print(confusion_matrix(y_test, y_pred))\n",
    "print(\"Accuracy, Error\")\n",
    "print(accuracy_score(y_test, y_pred), 1 - accuracy_score(y_test, y_pred))\n",
    "acc.append(accuracy_score(y_test, y_pred))"
   ]
  },
  {
   "cell_type": "markdown",
   "id": "86132451",
   "metadata": {},
   "source": [
    "### SVM"
   ]
  },
  {
   "cell_type": "code",
   "execution_count": 191,
   "id": "3b698e4c",
   "metadata": {},
   "outputs": [
    {
     "name": "stdout",
     "output_type": "stream",
     "text": [
      "SciKitLearn\n",
      "SVM\n",
      "[[1 0 0 ... 0 0 0]\n",
      " [0 0 0 ... 0 0 0]\n",
      " [0 1 0 ... 0 0 0]\n",
      " ...\n",
      " [0 0 0 ... 0 0 0]\n",
      " [0 0 0 ... 0 1 0]\n",
      " [0 0 0 ... 0 0 0]]\n",
      "Accuracy, Error\n",
      "0.4246575342465753 0.5753424657534247\n"
     ]
    }
   ],
   "source": [
    "clf_svm = svm.SVC(kernel='linear', C=1, decision_function_shape='ovo').fit(X_train, y_train)\n",
    "y_pred = clf_svm.predict(X_test)\n",
    "print(\"SciKitLearn\")\n",
    "print(\"SVM\")\n",
    "print(confusion_matrix(y_test, y_pred))\n",
    "print(\"Accuracy, Error\")\n",
    "print(accuracy_score(y_test, y_pred), 1 - accuracy_score(y_test, y_pred))\n",
    "acc.append(accuracy_score(y_test, y_pred))"
   ]
  },
  {
   "cell_type": "code",
   "execution_count": 192,
   "id": "82797354",
   "metadata": {},
   "outputs": [
    {
     "name": "stdout",
     "output_type": "stream",
     "text": [
      "SciKitLearn\n",
      "SVM\n",
      "[[0 0 0 ... 0 0 0]\n",
      " [0 0 0 ... 0 0 0]\n",
      " [0 0 0 ... 0 0 0]\n",
      " ...\n",
      " [0 0 0 ... 0 0 0]\n",
      " [0 0 0 ... 0 0 0]\n",
      " [0 0 0 ... 0 0 0]]\n",
      "Accuracy, Error\n",
      "0.136986301369863 0.863013698630137\n"
     ]
    }
   ],
   "source": [
    "clf_svm = svm.SVC(kernel='poly', C=1, decision_function_shape='ovo').fit(X_train, y_train)\n",
    "y_pred = clf_svm.predict(X_test)\n",
    "print(\"SciKitLearn\")\n",
    "print(\"SVM\")\n",
    "print(confusion_matrix(y_test, y_pred))\n",
    "print(\"Accuracy, Error\")\n",
    "print(accuracy_score(y_test, y_pred), 1 - accuracy_score(y_test, y_pred))\n",
    "acc.append(accuracy_score(y_test, y_pred))"
   ]
  },
  {
   "cell_type": "code",
   "execution_count": 193,
   "id": "a38740fd",
   "metadata": {},
   "outputs": [
    {
     "name": "stdout",
     "output_type": "stream",
     "text": [
      "SciKitLearn\n",
      "SVM\n",
      "[[0 0 0 ... 0 0 0]\n",
      " [0 0 0 ... 0 0 0]\n",
      " [0 1 0 ... 0 0 0]\n",
      " ...\n",
      " [0 0 0 ... 0 0 0]\n",
      " [0 0 0 ... 0 0 0]\n",
      " [0 0 0 ... 0 0 0]]\n",
      "Accuracy, Error\n",
      "0.1643835616438356 0.8356164383561644\n"
     ]
    }
   ],
   "source": [
    "clf_svm = svm.SVC(kernel='rbf', C=1, decision_function_shape='ovo').fit(X_train, y_train)\n",
    "y_pred = clf_svm.predict(X_test)\n",
    "print(\"SciKitLearn\")\n",
    "print(\"SVM\")\n",
    "print(confusion_matrix(y_test, y_pred))\n",
    "print(\"Accuracy, Error\")\n",
    "print(accuracy_score(y_test, y_pred), 1 - accuracy_score(y_test, y_pred))\n",
    "acc.append(accuracy_score(y_test, y_pred))"
   ]
  },
  {
   "cell_type": "markdown",
   "id": "3159e51a",
   "metadata": {},
   "source": [
    "### Decision Tree"
   ]
  },
  {
   "cell_type": "code",
   "execution_count": 194,
   "id": "be4195af",
   "metadata": {},
   "outputs": [
    {
     "name": "stdout",
     "output_type": "stream",
     "text": [
      "SciKitLearn\n",
      "Trees\n",
      "[[1 0 0 ... 0 0 0]\n",
      " [0 0 0 ... 0 0 0]\n",
      " [0 1 0 ... 0 0 0]\n",
      " ...\n",
      " [0 0 0 ... 1 0 0]\n",
      " [0 0 0 ... 0 0 0]\n",
      " [0 0 0 ... 0 0 0]]\n",
      "Accuracy, Error\n",
      "0.3972602739726027 0.6027397260273972\n"
     ]
    }
   ],
   "source": [
    "clf = tree.DecisionTreeClassifier()\n",
    "clf.fit(X_train, y_train)\n",
    "y_pred = clf.predict(X_test)\n",
    "print(\"SciKitLearn\")\n",
    "print(\"Trees\")\n",
    "print(confusion_matrix(y_test, y_pred))\n",
    "print(\"Accuracy, Error\")\n",
    "print(accuracy_score(y_test, y_pred), 1 - accuracy_score(y_test, y_pred))\n",
    "acc.append(accuracy_score(y_test, y_pred))"
   ]
  },
  {
   "cell_type": "markdown",
   "id": "90937baa",
   "metadata": {},
   "source": [
    "### Naive Bayes"
   ]
  },
  {
   "cell_type": "code",
   "execution_count": 195,
   "id": "a14befcf",
   "metadata": {},
   "outputs": [
    {
     "name": "stdout",
     "output_type": "stream",
     "text": [
      "SciKitLearn\n",
      "Naive Bayes\n",
      "[[1 0 0 ... 0 0 0]\n",
      " [0 0 0 ... 0 0 0]\n",
      " [0 1 0 ... 0 0 0]\n",
      " ...\n",
      " [0 0 0 ... 0 0 0]\n",
      " [0 0 0 ... 0 1 0]\n",
      " [0 0 0 ... 0 0 0]]\n",
      "Accuracy, Error\n",
      "0.4520547945205479 0.547945205479452\n"
     ]
    }
   ],
   "source": [
    "model = GaussianNB()\n",
    "model.fit(X_train, y_train)\n",
    "y_pred = model.predict(X_test)\n",
    "print(\"SciKitLearn\")\n",
    "print(\"Naive Bayes\")\n",
    "print(confusion_matrix(y_test, y_pred))\n",
    "print(\"Accuracy, Error\")\n",
    "print(accuracy_score(y_test, y_pred), 1 - accuracy_score(y_test, y_pred))\n",
    "acc.append(accuracy_score(y_test, y_pred))"
   ]
  },
  {
   "cell_type": "markdown",
   "id": "680c2fb1",
   "metadata": {},
   "source": [
    "### Random Forest 10"
   ]
  },
  {
   "cell_type": "code",
   "execution_count": 196,
   "id": "90634a93",
   "metadata": {},
   "outputs": [
    {
     "name": "stdout",
     "output_type": "stream",
     "text": [
      "SciKitLearn\n",
      "Random Forest 10\n",
      "[[1 0 0 ... 0 0 0]\n",
      " [0 0 0 ... 0 0 0]\n",
      " [0 1 0 ... 0 0 0]\n",
      " ...\n",
      " [0 0 0 ... 0 0 0]\n",
      " [0 0 0 ... 0 1 0]\n",
      " [0 0 0 ... 0 0 0]]\n",
      "Accuracy, Error\n",
      "0.4383561643835616 0.5616438356164384\n"
     ]
    }
   ],
   "source": [
    "clf=RandomForestClassifier(n_estimators=10)\n",
    "clf.fit(X_train,y_train)\n",
    "y_pred=clf.predict(X_test)\n",
    "print(\"SciKitLearn\")\n",
    "print(\"Random Forest 10\")\n",
    "print(confusion_matrix(y_test, y_pred))\n",
    "print(\"Accuracy, Error\")\n",
    "print(accuracy_score(y_test, y_pred), 1 - accuracy_score(y_test, y_pred))\n",
    "acc.append(accuracy_score(y_test, y_pred))"
   ]
  },
  {
   "cell_type": "markdown",
   "id": "5af69e93",
   "metadata": {},
   "source": [
    "### Random Forest 100"
   ]
  },
  {
   "cell_type": "code",
   "execution_count": 197,
   "id": "b1bc4334",
   "metadata": {},
   "outputs": [
    {
     "name": "stdout",
     "output_type": "stream",
     "text": [
      "SciKitLearn\n",
      "Random Forest 100\n",
      "[[1 0 0 ... 0 0 0]\n",
      " [0 0 0 ... 0 0 0]\n",
      " [0 1 0 ... 0 0 0]\n",
      " ...\n",
      " [0 0 0 ... 0 0 0]\n",
      " [0 0 0 ... 0 1 0]\n",
      " [0 0 0 ... 0 0 0]]\n",
      "Accuracy, Error\n",
      "0.4657534246575342 0.5342465753424658\n"
     ]
    }
   ],
   "source": [
    "clf=RandomForestClassifier(n_estimators=100)\n",
    "clf.fit(X_train,y_train)\n",
    "y_pred=clf.predict(X_test)\n",
    "print(\"SciKitLearn\")\n",
    "print(\"Random Forest 100\")\n",
    "print(confusion_matrix(y_test, y_pred))\n",
    "print(\"Accuracy, Error\")\n",
    "print(accuracy_score(y_test, y_pred), 1 - accuracy_score(y_test, y_pred))\n",
    "acc.append(accuracy_score(y_test, y_pred))"
   ]
  },
  {
   "cell_type": "markdown",
   "id": "a80c1948",
   "metadata": {},
   "source": [
    "### Random Forest 1000"
   ]
  },
  {
   "cell_type": "code",
   "execution_count": 198,
   "id": "c63ea2f8",
   "metadata": {},
   "outputs": [
    {
     "name": "stdout",
     "output_type": "stream",
     "text": [
      "SciKitLearn\n",
      "Random Forest 1000\n",
      "[[1 0 0 ... 0 0 0]\n",
      " [0 0 0 ... 0 0 0]\n",
      " [0 1 0 ... 0 0 0]\n",
      " ...\n",
      " [0 0 0 ... 0 0 0]\n",
      " [0 0 0 ... 0 1 0]\n",
      " [0 0 0 ... 0 0 0]]\n",
      "Accuracy, Error\n",
      "0.4657534246575342 0.5342465753424658\n"
     ]
    }
   ],
   "source": [
    "clf=RandomForestClassifier(n_estimators=1000)\n",
    "clf.fit(X_train,y_train)\n",
    "y_pred=clf.predict(X_test)\n",
    "print(\"SciKitLearn\")\n",
    "print(\"Random Forest 1000\")\n",
    "print(confusion_matrix(y_test, y_pred))\n",
    "print(\"Accuracy, Error\")\n",
    "print(accuracy_score(y_test, y_pred), 1 - accuracy_score(y_test, y_pred))\n",
    "acc.append(accuracy_score(y_test, y_pred))"
   ]
  },
  {
   "cell_type": "markdown",
   "id": "913edc89",
   "metadata": {},
   "source": [
    "### Logistic Regression"
   ]
  },
  {
   "cell_type": "code",
   "execution_count": 199,
   "id": "ae0b893d",
   "metadata": {},
   "outputs": [
    {
     "name": "stdout",
     "output_type": "stream",
     "text": [
      "SciKitLearn\n",
      "Logistic regression\n",
      "[[1 0 0 ... 0 0 0]\n",
      " [0 0 0 ... 0 0 0]\n",
      " [0 1 0 ... 0 0 0]\n",
      " ...\n",
      " [0 0 0 ... 0 0 0]\n",
      " [0 0 0 ... 0 1 0]\n",
      " [0 0 0 ... 0 0 0]]\n",
      "Accuracy, Error\n",
      "0.3835616438356164 0.6164383561643836\n"
     ]
    },
    {
     "name": "stderr",
     "output_type": "stream",
     "text": [
      "c:\\users\\derrick\\appdata\\local\\programs\\python\\python39\\lib\\site-packages\\sklearn\\linear_model\\_logistic.py:814: ConvergenceWarning: lbfgs failed to converge (status=1):\n",
      "STOP: TOTAL NO. of ITERATIONS REACHED LIMIT.\n",
      "\n",
      "Increase the number of iterations (max_iter) or scale the data as shown in:\n",
      "    https://scikit-learn.org/stable/modules/preprocessing.html\n",
      "Please also refer to the documentation for alternative solver options:\n",
      "    https://scikit-learn.org/stable/modules/linear_model.html#logistic-regression\n",
      "  n_iter_i = _check_optimize_result(\n"
     ]
    }
   ],
   "source": [
    "logreg = LogisticRegression()\n",
    "logreg.fit(X_train,y_train)\n",
    "y_pred=logreg.predict(X_test)\n",
    "print(\"SciKitLearn\")\n",
    "print(\"Logistic regression\")\n",
    "print(confusion_matrix(y_test, y_pred))\n",
    "print(\"Accuracy, Error\")\n",
    "print(accuracy_score(y_test, y_pred), 1 - accuracy_score(y_test, y_pred))\n",
    "acc.append(accuracy_score(y_test, y_pred))"
   ]
  },
  {
   "cell_type": "code",
   "execution_count": 200,
   "id": "ed51c7d5",
   "metadata": {},
   "outputs": [
    {
     "name": "stdout",
     "output_type": "stream",
     "text": [
      "SciKitLearn\n",
      "Adaboost with decision trees\n",
      "[[0 0 0 ... 0 0 0]\n",
      " [0 0 0 ... 0 0 0]\n",
      " [0 0 0 ... 0 0 0]\n",
      " ...\n",
      " [0 0 0 ... 0 0 0]\n",
      " [0 0 0 ... 0 1 0]\n",
      " [0 0 0 ... 0 0 0]]\n",
      "Accuracy, Error\n",
      "0.0136986301369863 0.9863013698630136\n"
     ]
    }
   ],
   "source": [
    "abc = AdaBoostClassifier(n_estimators=50,\n",
    "                         learning_rate=1)\n",
    "abc.fit(X_train,y_train)\n",
    "y_pred=abc.predict(X_test)\n",
    "print(\"SciKitLearn\")\n",
    "print(\"Adaboost with decision trees\")\n",
    "print(confusion_matrix(y_test, y_pred))\n",
    "print(\"Accuracy, Error\")\n",
    "print(accuracy_score(y_test, y_pred), 1 - accuracy_score(y_test, y_pred))\n",
    "acc.append(accuracy_score(y_test, y_pred))"
   ]
  },
  {
   "cell_type": "code",
   "execution_count": 201,
   "id": "7228f3a1",
   "metadata": {},
   "outputs": [
    {
     "name": "stdout",
     "output_type": "stream",
     "text": [
      "SciKitLearn\n",
      "Adaboost with decision trees\n",
      "[[1 0 0 ... 0 0 0]\n",
      " [0 0 0 ... 0 0 0]\n",
      " [0 1 0 ... 0 0 0]\n",
      " ...\n",
      " [0 0 0 ... 0 0 0]\n",
      " [0 0 0 ... 0 1 0]\n",
      " [0 0 0 ... 0 0 0]]\n",
      "Accuracy, Error\n",
      "0.410958904109589 0.589041095890411\n"
     ]
    }
   ],
   "source": [
    "gradient_booster = GradientBoostingClassifier(learning_rate=1)\n",
    "gradient_booster.fit(X_train,y_train)\n",
    "y_pred=gradient_booster.predict(X_test)\n",
    "print(\"SciKitLearn\")\n",
    "print(\"Adaboost with decision trees\")\n",
    "print(confusion_matrix(y_test, y_pred))\n",
    "print(\"Accuracy, Error\")\n",
    "print(accuracy_score(y_test, y_pred), 1 - accuracy_score(y_test, y_pred))\n",
    "acc.append(accuracy_score(y_test, y_pred))"
   ]
  },
  {
   "cell_type": "code",
   "execution_count": 202,
   "id": "aac1f2a9",
   "metadata": {},
   "outputs": [
    {
     "name": "stdout",
     "output_type": "stream",
     "text": [
      "SciKitLearn\n",
      "Adaboost with svml\n",
      "[[0 0 0 ... 0 0 0]\n",
      " [0 0 0 ... 0 0 0]\n",
      " [0 0 0 ... 0 0 0]\n",
      " ...\n",
      " [0 0 0 ... 0 0 0]\n",
      " [0 0 0 ... 0 0 0]\n",
      " [0 0 0 ... 0 0 0]]\n",
      "Accuracy, Error\n",
      "0.0 1.0\n"
     ]
    }
   ],
   "source": [
    "svc=svm.SVC(probability=True, kernel='linear')\n",
    "abc = AdaBoostClassifier(n_estimators=50,base_estimator=svc,\n",
    "                         learning_rate=1)\n",
    "abc.fit(X_train,y_train)\n",
    "y_pred=abc.predict(X_test)\n",
    "print(\"SciKitLearn\")\n",
    "print(\"Adaboost with svml\")\n",
    "print(confusion_matrix(y_test, y_pred))\n",
    "print(\"Accuracy, Error\")\n",
    "print(accuracy_score(y_test, y_pred), 1 - accuracy_score(y_test, y_pred))\n",
    "acc.append(accuracy_score(y_test, y_pred))\n",
    "abc = AdaBoostClassifier(n_estimators=50,\n",
    "                         learning_rate=1)"
   ]
  },
  {
   "cell_type": "code",
   "execution_count": 203,
   "id": "925b6306",
   "metadata": {},
   "outputs": [
    {
     "name": "stdout",
     "output_type": "stream",
     "text": [
      "SciKitLearn\n",
      "Adaboost with svmp\n",
      "[[0 0 0 ... 0 0 0]\n",
      " [0 0 0 ... 0 0 0]\n",
      " [0 0 0 ... 0 0 0]\n",
      " ...\n",
      " [0 0 0 ... 0 0 0]\n",
      " [0 0 0 ... 0 0 0]\n",
      " [0 0 0 ... 0 0 0]]\n",
      "Accuracy, Error\n",
      "0.0 1.0\n"
     ]
    }
   ],
   "source": [
    "svc=svm.SVC(probability=True, kernel='poly')\n",
    "abc = AdaBoostClassifier(n_estimators=50,base_estimator=svc,\n",
    "                         learning_rate=1)\n",
    "abc.fit(X_train,y_train)\n",
    "y_pred=abc.predict(X_test)\n",
    "print(\"SciKitLearn\")\n",
    "print(\"Adaboost with svmp\")\n",
    "print(confusion_matrix(y_test, y_pred))\n",
    "print(\"Accuracy, Error\")\n",
    "print(accuracy_score(y_test, y_pred), 1 - accuracy_score(y_test, y_pred))\n",
    "acc.append(accuracy_score(y_test, y_pred))\n",
    "abc = AdaBoostClassifier(n_estimators=50,\n",
    "                         learning_rate=1)\n"
   ]
  },
  {
   "cell_type": "markdown",
   "id": "a2e918db",
   "metadata": {},
   "source": [
    "## Looking at Correlation"
   ]
  },
  {
   "cell_type": "code",
   "execution_count": 204,
   "id": "ab587044",
   "metadata": {},
   "outputs": [
    {
     "data": {
      "text/plain": [
       "<AxesSubplot:>"
      ]
     },
     "execution_count": 204,
     "metadata": {},
     "output_type": "execute_result"
    },
    {
     "data": {
      "image/png": "[encoded data removed]",
      "text/plain": [
       "<Figure size 432x288 with 2 Axes>"
      ]
     },
     "metadata": {},
     "output_type": "display_data"
    }
   ],
   "source": [
    "sns.heatmap(processdf.corr())"
   ]
  },
  {
   "cell_type": "code",
   "execution_count": 205,
   "id": "263e7b20",
   "metadata": {},
   "outputs": [
    {
     "name": "stderr",
     "output_type": "stream",
     "text": [
      "C:\\Users\\Derrick\\AppData\\Local\\Temp\\ipykernel_2228\\2819867210.py:3: DeprecationWarning: `np.bool` is a deprecated alias for the builtin `bool`. To silence this warning, use `bool` by itself. Doing this will not modify any behavior and is safe. If you specifically wanted the numpy scalar type, use `np.bool_` here.\n",
      "Deprecated in NumPy 1.20; for more details and guidance: https://numpy.org/devdocs/release/1.20.0-notes.html#deprecations\n",
      "  mask = np.triu(np.ones_like(corr, dtype=np.bool))\n"
     ]
    },
    {
     "data": {
      "text/plain": [
       "<AxesSubplot:>"
      ]
     },
     "execution_count": 205,
     "metadata": {},
     "output_type": "execute_result"
    },
    {
     "data": {
      "image/png": "[encoded data removed]",
      "text/plain": [
       "<Figure size 792x648 with 2 Axes>"
      ]
     },
     "metadata": {},
     "output_type": "display_data"
    }
   ],
   "source": [
    "corr = processdf.corr()\n",
    "# visualise the data with seaborn\n",
    "mask = np.triu(np.ones_like(corr, dtype=np.bool))\n",
    "sns.set_style(style = 'white')\n",
    "f, ax = plt.subplots(figsize=(11, 9))\n",
    "cmap = sns.diverging_palette(10, 250, as_cmap=True)\n",
    "sns.heatmap(corr, mask=mask, cmap=cmap, \n",
    "        square=True,\n",
    "        linewidths=.5, cbar_kws={\"shrink\": .5}, ax=ax)"
   ]
  },
  {
   "cell_type": "code",
   "execution_count": 206,
   "id": "d23771d7",
   "metadata": {},
   "outputs": [
    {
     "data": {
      "text/plain": [
       "Text(0.5, 1.0, 'Correlation')"
      ]
     },
     "execution_count": 206,
     "metadata": {},
     "output_type": "execute_result"
    },
    {
     "data": {
      "image/png": "[encoded data removed]",
      "text/plain": [
       "<Figure size 1368x1368 with 2 Axes>"
      ]
     },
     "metadata": {},
     "output_type": "display_data"
    }
   ],
   "source": [
    "corr = processdf.corr()\n",
    "fig = plt.figure(figsize=(19,19))\n",
    "plt.matshow(corr, fignum=fig.number)\n",
    "plt.xticks(range(processdf.select_dtypes(['number']).shape[1]),processdf.select_dtypes(['number']).columns,fontsize=10,rotation=60)\n",
    "plt.yticks(range(processdf.select_dtypes(['number']).shape[1]),processdf.select_dtypes(['number']).columns,fontsize=10)\n",
    "cb = plt.colorbar()\n",
    "cb.ax.tick_params(labelsize=14)\n",
    "plt.title('Correlation', fontsize=14)"
   ]
  },
  {
   "cell_type": "markdown",
   "id": "8a4b978a",
   "metadata": {},
   "source": [
    "## Feature selection"
   ]
  },
  {
   "cell_type": "code",
   "execution_count": 207,
   "id": "dd4fbf4e",
   "metadata": {},
   "outputs": [
    {
     "name": "stdout",
     "output_type": "stream",
     "text": [
      "Index(['customer_id', 'FN', 'Active', 'club_member_status',\n",
      "       'fashion_news_frequency', 'age', 'postal_code', 't_dat', 'price',\n",
      "       'sales_channel_id', 'product_code', 'prod_name', 'product_type_no',\n",
      "       'product_type_name', 'product_group_name', 'graphical_appearance_no',\n",
      "       'graphical_appearance_name', 'colour_group_code', 'colour_group_name',\n",
      "       'perceived_colour_value_id', 'perceived_colour_value_name',\n",
      "       'perceived_colour_master_id', 'perceived_colour_master_name',\n",
      "       'department_no', 'department_name', 'index_code', 'index_name',\n",
      "       'index_group_no', 'index_group_name', 'section_no', 'section_name',\n",
      "       'garment_group_no', 'garment_group_name', 'article_id'],\n",
      "      dtype='object')\n",
      "[ 1381.635   188.174   231.073   680.625   188.174   127.51    139.63\n",
      " 13576.51  11510.689    66.713 57262.431 55856.347  3703.803  5819.798\n",
      "  1142.975  1495.159  1951.306  6213.457  9803.163   517.65    779.255\n",
      "  1577.681  4320.091 12345.155  9798.192   962.7     793.294   713.571\n",
      "   378.277  3340.052  2990.83   2113.073  2481.314]\n"
     ]
    }
   ],
   "source": [
    "test = SelectKBest(score_func=chi2, k=4)\n",
    "fit = test.fit(X, y)\n",
    "np.set_printoptions(precision=3)\n",
    "print(processdf.columns)\n",
    "print(fit.scores_)"
   ]
  },
  {
   "cell_type": "markdown",
   "id": "14f6419d",
   "metadata": {},
   "source": [
    "## Results of first run"
   ]
  },
  {
   "cell_type": "code",
   "execution_count": 208,
   "id": "b546a023",
   "metadata": {},
   "outputs": [
    {
     "data": {
      "text/plain": [
       "15"
      ]
     },
     "execution_count": 208,
     "metadata": {},
     "output_type": "execute_result"
    }
   ],
   "source": [
    "labs = ['KNN5', \"KNN100\", \"SVML\", \"SVMP\", \"SVMRGF\", \"DT\",\"NB\",\"RF10\", \"RF100\", \"RF1000\", \"LR\", \"Adaboost\", \"GB\",\"AdaSVML\",\"AdaSVMP\"]\n",
    "\n",
    "len(acc)"
   ]
  },
  {
   "cell_type": "code",
   "execution_count": 209,
   "id": "8207fe38",
   "metadata": {},
   "outputs": [
    {
     "data": {
      "text/plain": [
       "15"
      ]
     },
     "execution_count": 209,
     "metadata": {},
     "output_type": "execute_result"
    }
   ],
   "source": [
    "len(labs)"
   ]
  },
  {
   "cell_type": "code",
   "execution_count": 210,
   "id": "82bf7bf3",
   "metadata": {},
   "outputs": [
    {
     "data": {
      "image/png": "[encoded data removed]",
      "text/plain": [
       "<Figure size 720x720 with 1 Axes>"
      ]
     },
     "metadata": {},
     "output_type": "display_data"
    }
   ],
   "source": [
    "fig = plt.figure(figsize= (10, 10))\n",
    "plt.bar(labs, acc, color ='maroon',\n",
    "        width = 0.3)\n",
    " \n",
    "plt.xlabel(\"Models\")\n",
    "plt.ylabel(\"Accuracy\")\n",
    "plt.title(\"Baseline\")\n",
    "plt.show()"
   ]
  },
  {
   "cell_type": "markdown",
   "id": "36ad689d",
   "metadata": {},
   "source": [
    "# Second run with feature trim and best models"
   ]
  },
  {
   "cell_type": "code",
   "execution_count": 211,
   "id": "5db609b0",
   "metadata": {},
   "outputs": [
    {
     "name": "stdout",
     "output_type": "stream",
     "text": [
      "[[-0.659  0.603  0.684 ...  1.217  1.071  0.937]\n",
      " [-0.659  0.603  0.684 ... -1.357 -1.421 -0.87 ]\n",
      " [-0.659  0.603  0.684 ...  0.727  0.863  1.479]\n",
      " ...\n",
      " [-0.659  0.603  0.684 ...  1.462 -1.005 -0.69 ]\n",
      " [-0.659  0.603  0.684 ... -0.99  -0.383  1.117]\n",
      " [ 1.654 -1.658 -1.462 ... -0.377  0.033 -0.148]]\n",
      "[[-0.659  0.603  0.684 ...  0.727  0.863  1.479]\n",
      " [-0.659  0.603  0.684 ...  1.217  1.071  0.937]\n",
      " [-0.659  0.603  0.684 ...  0.849  1.694  0.575]\n",
      " ...\n",
      " [-0.659  0.603  0.684 ... -0.744  0.655  1.298]\n",
      " [-0.659  0.603  0.684 ...  0.482 -1.005 -0.69 ]\n",
      " [ 1.654 -1.658 -1.462 ...  1.34   0.448 -1.051]]\n",
      "[444 404 392 513 201 449  33 298 265 384 481 170  45 108 442 225 477 247\n",
      " 205 148 190  36  74 465  46  89  18  21 141 453 166   3 462 461 152 373\n",
      " 129 487 179 396  64 125 507 444  48 193 502 308 242 469 226  87 421 245\n",
      " 206 518 398 116 514  59 286 343 135 146 457 119 410 353 228 361 301 258\n",
      " 170 246 485 312 418 470 126 227 324  35 132 130 109  96 102  23 190 433\n",
      " 201 294 401 159 180 353   9 359 208 441 264 256  97 156 116 387 173 280\n",
      " 327  39   5 167 183 511 157 244 365  62 286 460 468 506  27  81 289 190\n",
      " 162 134 448 390 108 292 314 321 190 369  43 218  76  78 341 296 457 147\n",
      " 344  27 407 144 100 306 114  20 447 146 356 259 319 355 458 256  50 268\n",
      " 397 532 241 508 533 185 515 292  98 483 404 129 454 428 346 138 349 492\n",
      " 506 467 333 405   0 236  42 270 491 207 210   7 198 281 516  72 239 370\n",
      "  79 501 381 394 238 128 220  13 336 424 161 367 452 496 292 153 435 160\n",
      " 263 107 525 253  57 429  51 402 389 171 212 407 109 199  71 383 293 355\n",
      "  99 497  80 349 223 478 181 345 154  24 175 282  94 528  85 328 390 486\n",
      " 497 112 158 423 125 366 255 426 371 115 310 173 321 503  92 332 508 124\n",
      " 466 339 139 266 523 381 531 254 526 414 313 102 340 486 512 211 112 297\n",
      "   2  61  45 535 260 449 357 388 432  70 482 284 437  30 483 203  17 365\n",
      " 167 140 292  77 279 105 358 113 218 329 427 163 248 213 495 474 243 271\n",
      " 287 151 305 490  87 224 191 352 129 170 183 112 117 362 252 408 145  54\n",
      " 456 182 174 472 127 463 251 291 187 204  90 141 147 253 283 475 471  28\n",
      "  91  35 496 326  73 273 249  58 180 403 216 278  86  91 122  49 347 232\n",
      "  60 118 464  52 372 342 338 360 241 512 106  56 112  14 240 295  98 376\n",
      " 164 441  35  88   8 253  47 214  37  22 433  58 137 355 174 505 257 287\n",
      " 153   0 453 233 373 152 378 261 288 409 481  59 355  93 216 417 290 181\n",
      "  53 230 128 412 146 129 221 476 534 421 445 338 285 177 161 484  43 364\n",
      " 521 368 498 189 349 101 289 176 234 173  82 450 184 403 209  10 169 416\n",
      "  84 267 527 256 335 359  25 194 411 349 323 434  85  66 229  40 440 186\n",
      "  46 382 242   6 426 473   1  12 184 395  75 309 157 354 425 530  67 307\n",
      " 143 178 441 256 245 529 357 479 375  92 510  55 489 438  62  14 139 370\n",
      " 262 217 350 304 348   8 207 138  38 390 198  83  87 406 195 267 419  29\n",
      " 480  75 393  16 382 488 318 525 149 383 419 300 431  11 255 385 197 190\n",
      " 319  56 111 490 377 374 349  69  34 455 363 430 141  44 519 522 436 337\n",
      " 190 109 364 422 258 217 133 190 511  41 177 317 493 299 391  19 325 120\n",
      " 200 520 188 499 263 155 439 316 219 277 104 400 443 255 379 176 211 530\n",
      " 330 387 103 164 269 415 110 142 136 275 528 123 183 504 322 303 524 168\n",
      " 437  26 195 516 386  13 202 172 250 150 319 484 351  14  59  39  14 437\n",
      " 237 375 315 262 490 369 463 371]\n",
      "[331  54 359  76 196 208  65  68 318 110 160  86 276 459  92  15 192 420\n",
      " 413 334  32 380  84 124 517 365 131 272 311 174  28 121  76 117   7 246\n",
      " 287   4 274  88 522 276 231 355  31 494 237 187 500 302 222 355 372 286\n",
      " 207 215 215  95 165 253  85 184 446  63 509 508 147 268 451 399 320 137\n",
      " 235]\n"
     ]
    }
   ],
   "source": [
    "df = pd.read_csv(\"smallset.csv\")\n",
    "df.pop(\"detail_desc\")\n",
    "df.columns\n",
    "df1 = df.pop(\"article_id\")\n",
    "df[\"article_id\"] = df1\n",
    "processdf = pd.DataFrame()\n",
    "for col in df.columns:\n",
    "    le = preprocessing.LabelEncoder()\n",
    "    le.fit(df[col])\n",
    "    le_vals = le.transform(df[col])\n",
    "    processdf[col] = le_vals\n",
    "X = processdf.iloc[:,:-1].values\n",
    "y = processdf.iloc[:,33].values\n",
    "X_train, X_test, y_train, y_test = train_test_split(X, y, test_size=0.10)\n",
    "scaler = StandardScaler()\n",
    "scaler.fit(X_train)\n",
    "\n",
    "X_train = scaler.transform(X_train)\n",
    "X_test = scaler.transform(X_test)\n",
    "print(X_train)\n",
    "print(X_test)\n",
    "print(y_train)\n",
    "print(y_test)"
   ]
  },
  {
   "cell_type": "code",
   "execution_count": 212,
   "id": "53b304d8",
   "metadata": {},
   "outputs": [
    {
     "data": {
      "text/plain": [
       "Text(0.5, 1.0, 'Correlation')"
      ]
     },
     "execution_count": 212,
     "metadata": {},
     "output_type": "execute_result"
    },
    {
     "data": {
      "image/png": "[encoded data removed]",
      "text/plain": [
       "<Figure size 1368x1368 with 2 Axes>"
      ]
     },
     "metadata": {},
     "output_type": "display_data"
    }
   ],
   "source": [
    "corr = processdf.corr()\n",
    "fig = plt.figure(figsize=(19,19))\n",
    "plt.matshow(corr, fignum=fig.number)\n",
    "plt.xticks(range(processdf.select_dtypes(['number']).shape[1]),processdf.select_dtypes(['number']).columns,fontsize=10,rotation=60)\n",
    "plt.yticks(range(processdf.select_dtypes(['number']).shape[1]),processdf.select_dtypes(['number']).columns,fontsize=10)\n",
    "cb = plt.colorbar()\n",
    "cb.ax.tick_params(labelsize=14)\n",
    "plt.title('Correlation', fontsize=14)"
   ]
  },
  {
   "cell_type": "code",
   "execution_count": 213,
   "id": "9082c00d",
   "metadata": {},
   "outputs": [
    {
     "name": "stdout",
     "output_type": "stream",
     "text": [
      "Index(['customer_id', 'FN', 'Active', 'club_member_status',\n",
      "       'fashion_news_frequency', 'age', 'postal_code', 't_dat', 'price',\n",
      "       'sales_channel_id', 'product_code', 'prod_name', 'product_type_no',\n",
      "       'product_type_name', 'product_group_name', 'graphical_appearance_no',\n",
      "       'graphical_appearance_name', 'colour_group_code', 'colour_group_name',\n",
      "       'perceived_colour_value_id', 'perceived_colour_value_name',\n",
      "       'perceived_colour_master_id', 'perceived_colour_master_name',\n",
      "       'department_no', 'department_name', 'index_code', 'index_name',\n",
      "       'index_group_no', 'index_group_name', 'section_no', 'section_name',\n",
      "       'garment_group_no', 'garment_group_name', 'article_id'],\n",
      "      dtype='object')\n",
      "[ 1381.635   188.174   231.073   680.625   188.174   127.51    139.63\n",
      " 13576.51  11510.689    66.713 57262.431 55856.347  3703.803  5819.798\n",
      "  1142.975  1495.159  1951.306  6213.457  9803.163   517.65    779.255\n",
      "  1577.681  4320.091 12345.155  9798.192   962.7     793.294   713.571\n",
      "   378.277  3340.052  2990.83   2113.073  2481.314]\n"
     ]
    }
   ],
   "source": [
    "test = SelectKBest(score_func=chi2, k=4)\n",
    "fit = test.fit(X, y)\n",
    "np.set_printoptions(precision=3)\n",
    "print(processdf.columns)\n",
    "print(fit.scores_)"
   ]
  },
  {
   "cell_type": "code",
   "execution_count": 214,
   "id": "5eedf8f4",
   "metadata": {},
   "outputs": [
    {
     "data": {
      "text/plain": [
       "0      ff00631c6ec7b0902cbcfde3e49dcd986efc2e3e20745b...\n",
       "1      ff00631c6ec7b0902cbcfde3e49dcd986efc2e3e20745b...\n",
       "2      ff00631c6ec7b0902cbcfde3e49dcd986efc2e3e20745b...\n",
       "3      ff00631c6ec7b0902cbcfde3e49dcd986efc2e3e20745b...\n",
       "4      ff00631c6ec7b0902cbcfde3e49dcd986efc2e3e20745b...\n",
       "                             ...                        \n",
       "724    bb3bdf0dcd8677549584823cc95f67b8aafb547d941500...\n",
       "725    bb3bdf0dcd8677549584823cc95f67b8aafb547d941500...\n",
       "726    bb3bdf0dcd8677549584823cc95f67b8aafb547d941500...\n",
       "727    bb3bdf0dcd8677549584823cc95f67b8aafb547d941500...\n",
       "728    bb3bdf0dcd8677549584823cc95f67b8aafb547d941500...\n",
       "Name: postal_code, Length: 729, dtype: object"
      ]
     },
     "execution_count": 214,
     "metadata": {},
     "output_type": "execute_result"
    }
   ],
   "source": [
    "df.pop(\"FN\")\n",
    "df.pop(\"Active\")\n",
    "df.pop(\"club_member_status\")\n",
    "df.pop(\"prod_name\")\n",
    "df.pop(\"postal_code\")"
   ]
  },
  {
   "cell_type": "code",
   "execution_count": 215,
   "id": "3cb4334a",
   "metadata": {},
   "outputs": [
    {
     "name": "stdout",
     "output_type": "stream",
     "text": [
      "[[-0.664  0.601 -0.447 ...  0.705  0.813  1.42 ]\n",
      " [-0.664  0.601 -0.447 ... -1.24   0.394 -1.094]\n",
      " [-0.664  0.601 -0.447 ... -1.24  -1.07  -0.735]\n",
      " ...\n",
      " [-0.664  0.601 -0.447 ... -1.24  -0.233 -1.453]\n",
      " [-0.664  0.601 -0.447 ... -1.24  -0.861 -0.376]\n",
      " [-0.664  0.601 -0.447 ... -1.605  1.231 -1.633]]\n",
      "[[-0.664  0.601 -0.447 ... -1.24  -0.443  1.061]\n",
      " [-0.664  0.601 -0.447 ... -1.24  -0.443  1.061]\n",
      " [-0.664  0.601 -0.447 ... -1.362 -1.489 -0.915]\n",
      " ...\n",
      " [-0.664  0.601 -0.447 ... -1.24  -1.279 -0.555]\n",
      " [-0.664  0.601 -0.447 ...  0.341 -1.489 -0.915]\n",
      " [-0.664  0.601 -0.447 ...  0.462 -0.652 -1.274]]\n",
      "[205 255 163 239 327 241 171 513   7 256 108 369 367 237  93 433  16 300\n",
      " 485 533 122 292 398 464 508 242 375 187 125 395 410 309  35 208 344 148\n",
      " 404  76 183 437 319 381 328 507 420 143 315  79 313  24  95 465 444 100\n",
      " 240 351 187 452  47 477 470 177 388 234 129 453 387 115 270 501 325 520\n",
      " 186 449 293 447 191 358 373 160 129 366 349 107 258 188 198 181 406 134\n",
      " 481 238 491 189 184 371 286 421 156 121 153 424 225 497 184 177 342 484\n",
      " 364 268 417 355 146 116 252 215 486 440 237  76 253 217 334 474  32  23\n",
      " 168  14 486 391 268 160 365 435 104  15 368  73  97 387  78 247  98 408\n",
      " 110 161 374 475  46 155 194 288 352   8 393 253 284 146  61 255 512 317\n",
      " 246 174  59  96  56 411  49 167 438 272 437  30 463   7 357 338 233 330\n",
      " 336  83   0 429  34 308 359 202  28  22 355 407   4   2 379  85 519 355\n",
      " 129  25 178 496 418 281 498 383  14  94 229 286 495 311 110 157 195  86\n",
      " 123 267  36 232 382  48 276 269  71 219 377 245 479 263 265 146 117 305\n",
      " 169 504 310 253 409 462 500 207 353 362  27 339 530 116 140 446 213 480\n",
      "  76 332 208 170 217 207 455 282 456 323 141 131  75  38 535 149 432 200\n",
      " 303 355  92 444 180 528 279 274 119 256 372  84 278  29 318  54 137  77\n",
      " 529 326 164 190  19 126 218   9 499 468 488 289 105  35  85 375 246 128\n",
      "  26 258 490 524 150  80  91 262 166 483  27 212 349  87 236 369  39 400\n",
      " 285 401 373 505 151  46 441 316 506 516 381  45 322 276 407 463 138 127\n",
      " 111  10 370 530 152 261 404 348  39 441 423 412  45 319  87 528 190 383\n",
      " 211 259 262 133  58 399 173 448  51 209 190 460 287 118  40 425 427 297\n",
      "  72 441 458 215 319  99  82 173 231 161 228 397 403 135 331 437 109 433\n",
      " 525 428 476 413 431 490 302 295  64  53 364 287 196 296   6   0 482 526\n",
      " 449 459 450 292 430 337 109 515 518 132 242 167  91 198 170 426 306 117\n",
      " 222 176 277 193 525  58 416 301 312 457 108  65 510 341  28  14   5  84\n",
      "  37  17 226 522 170 304  54  21 181 173 101 445 329 321 356 414   1 141\n",
      "  57 241 139  67 389 103 473 210  62 218 415 291  31 512  42 345 275 421\n",
      " 349 503  87 390  44 390 174 113 157 125 419 216 471 280  66 359 335  90\n",
      " 292 346 201 451  89  70 426 392 190 139 365 147 396 271 402 223 289 443\n",
      " 273 386 299 489 371 405  43 250 290 165 195 355 159 338 138 508 283 521\n",
      "   8 287  86 350 340 321 114 249 487 207 522 439  43 472 496 190 267 390\n",
      " 129 184 453  56  62 190 263  50   3 384 141  59  60  11 484 353 182  75\n",
      " 112 264 158 490 294  20 320 324 286  92 244 142 363  63 112 102 365 162\n",
      " 190  52  88 164 454  33 248 102 106 216 422 176  81 394  14 514 354 360\n",
      "  55 243 179 256 211 260 355 172 214 434 245  12 124 493 220 314 531  85\n",
      " 185 361 436 347 224 370 120 128 204 298 532 481 502 230 506 318 469 199\n",
      " 343 153 255 130 359 197 494 333]\n",
      "[112  13 256 175 478 380 461 152 137 511  59  68 349 145 251 508 442 403\n",
      " 378  35  74 124 266 221  88 144 523 511 385 174 235 307 382 254 147 497\n",
      " 517 376  98 136 112 419 192 180 349 534 257 201 467  13 183 292 492 357\n",
      "  69 227 466 527  92 154 516 203 372 457 183  41 253 147 509 206 483  18\n",
      " 109]\n"
     ]
    }
   ],
   "source": [
    "acc = []\n",
    "processdf = pd.DataFrame()\n",
    "for col in df.columns:\n",
    "    le = preprocessing.LabelEncoder()\n",
    "    le.fit(df[col])\n",
    "    le_vals = le.transform(df[col])\n",
    "    processdf[col] = le_vals\n",
    "acc = []\n",
    "X = processdf.iloc[:,:-1].values\n",
    "y = processdf.iloc[:,28].values\n",
    "X_train, X_test, y_train, y_test = train_test_split(X, y, test_size=0.10)\n",
    "scaler = StandardScaler()\n",
    "scaler.fit(X_train)\n",
    "\n",
    "X_train = scaler.transform(X_train)\n",
    "X_test = scaler.transform(X_test)\n",
    "print(X_train)\n",
    "print(X_test)\n",
    "print(y_train)\n",
    "print(y_test)"
   ]
  },
  {
   "cell_type": "code",
   "execution_count": 216,
   "id": "c3ff757c",
   "metadata": {},
   "outputs": [
    {
     "name": "stdout",
     "output_type": "stream",
     "text": [
      "SciKitLearn\n",
      "Trees\n",
      "[[0 2 0 ... 0 0 0]\n",
      " [0 0 0 ... 0 0 0]\n",
      " [0 0 0 ... 0 0 0]\n",
      " ...\n",
      " [0 0 0 ... 0 0 0]\n",
      " [0 0 0 ... 0 0 0]\n",
      " [0 0 0 ... 1 0 0]]\n",
      "Accuracy, Error\n",
      "0.3972602739726027 0.6027397260273972\n"
     ]
    }
   ],
   "source": [
    "clf = tree.DecisionTreeClassifier()\n",
    "clf.fit(X_train, y_train)\n",
    "y_pred = clf.predict(X_test)\n",
    "print(\"SciKitLearn\")\n",
    "print(\"Trees\")\n",
    "print(confusion_matrix(y_test, y_pred))\n",
    "print(\"Accuracy, Error\")\n",
    "print(accuracy_score(y_test, y_pred), 1 - accuracy_score(y_test, y_pred))\n",
    "acc.append(accuracy_score(y_test, y_pred))"
   ]
  },
  {
   "cell_type": "code",
   "execution_count": 217,
   "id": "b12d3533",
   "metadata": {},
   "outputs": [
    {
     "name": "stdout",
     "output_type": "stream",
     "text": [
      "SciKitLearn\n",
      "Naive Bayes\n",
      "[[0 0 0 ... 0 0 0]\n",
      " [0 0 1 ... 0 0 0]\n",
      " [0 0 0 ... 0 0 0]\n",
      " ...\n",
      " [0 0 0 ... 0 0 0]\n",
      " [0 0 0 ... 0 0 0]\n",
      " [0 0 0 ... 1 0 0]]\n",
      "Accuracy, Error\n",
      "0.4246575342465753 0.5753424657534247\n"
     ]
    }
   ],
   "source": [
    "model = GaussianNB()\n",
    "model.fit(X_train, y_train)\n",
    "y_pred = model.predict(X_test)\n",
    "print(\"SciKitLearn\")\n",
    "print(\"Naive Bayes\")\n",
    "print(confusion_matrix(y_test, y_pred))\n",
    "print(\"Accuracy, Error\")\n",
    "print(accuracy_score(y_test, y_pred), 1 - accuracy_score(y_test, y_pred))\n",
    "acc.append(accuracy_score(y_test, y_pred))"
   ]
  },
  {
   "cell_type": "code",
   "execution_count": 218,
   "id": "d35c914c",
   "metadata": {},
   "outputs": [
    {
     "name": "stdout",
     "output_type": "stream",
     "text": [
      "SciKitLearn\n",
      "SVM\n",
      "[[0 0 0 ... 0 0 0]\n",
      " [0 0 2 ... 0 0 0]\n",
      " [0 0 0 ... 0 0 0]\n",
      " ...\n",
      " [0 0 0 ... 0 0 0]\n",
      " [0 0 0 ... 0 0 0]\n",
      " [0 0 0 ... 1 0 0]]\n",
      "Accuracy, Error\n",
      "0.410958904109589 0.589041095890411\n"
     ]
    }
   ],
   "source": [
    "clf_svm = svm.SVC(kernel='linear', C=1, decision_function_shape='ovo').fit(X_train, y_train)\n",
    "y_pred = clf_svm.predict(X_test)\n",
    "print(\"SciKitLearn\")\n",
    "print(\"SVM\")\n",
    "print(confusion_matrix(y_test, y_pred))\n",
    "print(\"Accuracy, Error\")\n",
    "print(accuracy_score(y_test, y_pred), 1 - accuracy_score(y_test, y_pred))\n",
    "acc.append(accuracy_score(y_test, y_pred))"
   ]
  },
  {
   "cell_type": "code",
   "execution_count": 219,
   "id": "d3a9a912",
   "metadata": {},
   "outputs": [
    {
     "name": "stdout",
     "output_type": "stream",
     "text": [
      "SciKitLearn\n",
      "Random Forest 1000\n",
      "[[0 2 0 ... 0 0 0]\n",
      " [0 0 0 ... 0 0 0]\n",
      " [0 0 0 ... 0 0 0]\n",
      " ...\n",
      " [0 0 0 ... 0 0 0]\n",
      " [0 0 0 ... 0 0 0]\n",
      " [0 0 0 ... 1 0 0]]\n",
      "Accuracy, Error\n",
      "0.4383561643835616 0.5616438356164384\n"
     ]
    }
   ],
   "source": [
    "clf=RandomForestClassifier(n_estimators=100)\n",
    "clf.fit(X_train,y_train)\n",
    "y_pred=clf.predict(X_test)\n",
    "print(\"SciKitLearn\")\n",
    "print(\"Random Forest 1000\")\n",
    "print(confusion_matrix(y_test, y_pred))\n",
    "print(\"Accuracy, Error\")\n",
    "print(accuracy_score(y_test, y_pred), 1 - accuracy_score(y_test, y_pred))\n",
    "acc.append(accuracy_score(y_test, y_pred))"
   ]
  },
  {
   "cell_type": "code",
   "execution_count": 220,
   "id": "5eecad41",
   "metadata": {},
   "outputs": [
    {
     "name": "stdout",
     "output_type": "stream",
     "text": [
      "SciKitLearn\n",
      "Adaboost with decision trees\n",
      "[[0 2 0 ... 0 0 0]\n",
      " [0 0 0 ... 0 0 0]\n",
      " [0 0 0 ... 0 0 0]\n",
      " ...\n",
      " [0 0 0 ... 0 0 0]\n",
      " [0 0 0 ... 0 0 0]\n",
      " [0 0 0 ... 0 1 0]]\n",
      "Accuracy, Error\n",
      "0.3972602739726027 0.6027397260273972\n"
     ]
    }
   ],
   "source": [
    "gradient_booster = GradientBoostingClassifier(learning_rate=1)\n",
    "gradient_booster.fit(X_train,y_train)\n",
    "y_pred=gradient_booster.predict(X_test)\n",
    "print(\"SciKitLearn\")\n",
    "print(\"Adaboost with decision trees\")\n",
    "print(confusion_matrix(y_test, y_pred))\n",
    "print(\"Accuracy, Error\")\n",
    "print(accuracy_score(y_test, y_pred), 1 - accuracy_score(y_test, y_pred))\n",
    "acc.append(accuracy_score(y_test, y_pred))"
   ]
  },
  {
   "cell_type": "code",
   "execution_count": 221,
   "id": "0eca34cd",
   "metadata": {},
   "outputs": [
    {
     "data": {
      "text/plain": [
       "5"
      ]
     },
     "execution_count": 221,
     "metadata": {},
     "output_type": "execute_result"
    }
   ],
   "source": [
    "labs = ['DT', 'NB', 'SVML', 'RF100', 'GB']\n",
    "len(labs)"
   ]
  },
  {
   "cell_type": "code",
   "execution_count": 222,
   "id": "ebc5e0da",
   "metadata": {},
   "outputs": [
    {
     "data": {
      "image/png": "[encoded data removed]",
      "text/plain": [
       "<Figure size 360x360 with 1 Axes>"
      ]
     },
     "metadata": {},
     "output_type": "display_data"
    }
   ],
   "source": [
    "fig = plt.figure(figsize= (5, 5))\n",
    "labs = ['DT', 'NB', 'SVML', 'RF100', 'GB']\n",
    "plt.bar(labs, acc, color ='maroon',\n",
    "        width = 0.3)\n",
    " \n",
    "plt.xlabel(\"Models\")\n",
    "plt.ylabel(\"Accuracy\")\n",
    "plt.title(\"Feature Selection 1\")\n",
    "plt.show()"
   ]
  },
  {
   "cell_type": "code",
   "execution_count": 223,
   "id": "e48b31af",
   "metadata": {},
   "outputs": [
    {
     "data": {
      "text/plain": [
       "0      Lingeries/Tights\n",
       "1            Ladieswear\n",
       "2               Divided\n",
       "3            Ladieswear\n",
       "4               Divided\n",
       "             ...       \n",
       "724          Ladieswear\n",
       "725          Ladieswear\n",
       "726            Menswear\n",
       "727            Menswear\n",
       "728            Menswear\n",
       "Name: index_name, Length: 729, dtype: object"
      ]
     },
     "execution_count": 223,
     "metadata": {},
     "output_type": "execute_result"
    }
   ],
   "source": [
    "df.pop(\"colour_group_name\")\n",
    "df.pop(\"section_name\")\n",
    "df.pop(\"index_group_name\")\n",
    "df.pop(\"garment_group_name\")\n",
    "df.pop(\"index_name\")"
   ]
  },
  {
   "cell_type": "code",
   "execution_count": 224,
   "id": "018eb8fa",
   "metadata": {},
   "outputs": [],
   "source": [
    "acc = []\n",
    "processdf = pd.DataFrame()\n",
    "for col in df.columns:\n",
    "    le = preprocessing.LabelEncoder()\n",
    "    le.fit(df[col])\n",
    "    le_vals = le.transform(df[col])\n",
    "    processdf[col] = le_vals\n",
    "acc = []\n",
    "X = processdf.iloc[:,:-1].values\n",
    "y = processdf.iloc[:,23].values\n",
    "X_train, X_test, y_train, y_test = train_test_split(X, y, test_size=0.10)\n",
    "scaler = StandardScaler()\n",
    "scaler.fit(X_train)\n",
    "\n",
    "X_train = scaler.transform(X_train)\n",
    "X_test = scaler.transform(X_test)"
   ]
  },
  {
   "cell_type": "code",
   "execution_count": 225,
   "id": "45c2ccfd",
   "metadata": {},
   "outputs": [],
   "source": [
    "clf = tree.DecisionTreeClassifier()\n",
    "clf.fit(X_train, y_train)\n",
    "y_pred = clf.predict(X_test)\n",
    "acc.append(accuracy_score(y_test, y_pred))"
   ]
  },
  {
   "cell_type": "code",
   "execution_count": 226,
   "id": "e83c8bc3",
   "metadata": {},
   "outputs": [],
   "source": [
    "model = GaussianNB()\n",
    "model.fit(X_train, y_train)\n",
    "y_pred = model.predict(X_test)\n",
    "acc.append(accuracy_score(y_test, y_pred))"
   ]
  },
  {
   "cell_type": "code",
   "execution_count": 227,
   "id": "5dad4207",
   "metadata": {},
   "outputs": [],
   "source": [
    "clf=RandomForestClassifier(n_estimators=100)\n",
    "clf.fit(X_train,y_train)\n",
    "y_pred=clf.predict(X_test)\n",
    "acc.append(accuracy_score(y_test, y_pred))"
   ]
  },
  {
   "cell_type": "code",
   "execution_count": 228,
   "id": "bbb2b47e",
   "metadata": {},
   "outputs": [
    {
     "data": {
      "image/png": "[encoded data removed]",
      "text/plain": [
       "<Figure size 360x360 with 1 Axes>"
      ]
     },
     "metadata": {},
     "output_type": "display_data"
    }
   ],
   "source": [
    "fig = plt.figure(figsize= (5, 5))\n",
    "labs = ['DT', 'NB', 'RF100']\n",
    "plt.bar(labs, acc, color ='maroon',\n",
    "        width = 0.3)\n",
    " \n",
    "plt.xlabel(\"Models\")\n",
    "plt.ylabel(\"Accuracy\")\n",
    "plt.title(\"Feature Selection 1\")\n",
    "plt.show()"
   ]
  },
  {
   "cell_type": "code",
   "execution_count": 229,
   "id": "014d885c",
   "metadata": {},
   "outputs": [
    {
     "data": {
      "text/plain": [
       "[0.410958904109589, 0.4246575342465753, 0.4520547945205479]"
      ]
     },
     "execution_count": 229,
     "metadata": {},
     "output_type": "execute_result"
    }
   ],
   "source": [
    "acc"
   ]
  },
  {
   "cell_type": "markdown",
   "id": "894670b1",
   "metadata": {},
   "source": [
    "## Work done to the final medium set"
   ]
  },
  {
   "cell_type": "code",
   "execution_count": 230,
   "id": "9a2c4528",
   "metadata": {},
   "outputs": [],
   "source": [
    "df2 = pd.read_csv(\"medium_data.csv\")"
   ]
  },
  {
   "cell_type": "code",
   "execution_count": 231,
   "id": "f95b95e8",
   "metadata": {},
   "outputs": [],
   "source": [
    "df2.pop(\"detail_desc\")\n",
    "df2.columns\n",
    "df1 = df2.pop(\"article_id\")\n",
    "df2[\"article_id\"] = df1\n",
    "df = df2.head(100000)\n",
    "processdf = pd.DataFrame()\n",
    "for col in df.columns:\n",
    "    le = preprocessing.LabelEncoder()\n",
    "    le.fit(df[col])\n",
    "    le_vals = le.transform(df[col])\n",
    "    processdf[col] = le_vals"
   ]
  },
  {
   "cell_type": "code",
   "execution_count": 232,
   "id": "9b33d4d1",
   "metadata": {},
   "outputs": [],
   "source": [
    "X = processdf.iloc[:,:-1].values\n",
    "y = processdf.iloc[:,33].values\n",
    "X_train, X_test, y_train, y_test = train_test_split(X, y, test_size=0.10)\n",
    "scaler = StandardScaler()\n",
    "scaler.fit(X_train)\n",
    "\n",
    "X_train = scaler.transform(X_train)\n",
    "X_test = scaler.transform(X_test)\n",
    "acc = []"
   ]
  },
  {
   "cell_type": "code",
   "execution_count": 233,
   "id": "daf05ca5",
   "metadata": {},
   "outputs": [],
   "source": [
    "model = GaussianNB()\n",
    "model.fit(X_train, y_train)\n",
    "y_pred = model.predict(X_test)\n",
    "acc.append(accuracy_score(y_test, y_pred))"
   ]
  },
  {
   "cell_type": "code",
   "execution_count": 234,
   "id": "74a6adfe",
   "metadata": {},
   "outputs": [
    {
     "name": "stdout",
     "output_type": "stream",
     "text": [
      "SciKitLearn\n",
      "Naive Bayes\n",
      "[[1 0 0 ... 0 0 0]\n",
      " [0 0 0 ... 0 0 0]\n",
      " [0 0 1 ... 0 0 0]\n",
      " ...\n",
      " [0 0 0 ... 0 1 0]\n",
      " [0 0 0 ... 0 0 0]\n",
      " [0 0 0 ... 0 0 0]]\n",
      "Accuracy, Error\n",
      "0.286 0.714\n"
     ]
    }
   ],
   "source": [
    "print(\"SciKitLearn\")\n",
    "print(\"Naive Bayes\")\n",
    "print(confusion_matrix(y_test, y_pred))\n",
    "print(\"Accuracy, Error\")\n",
    "print(accuracy_score(y_test, y_pred), 1 - accuracy_score(y_test, y_pred))"
   ]
  },
  {
   "cell_type": "code",
   "execution_count": 235,
   "id": "e199303b",
   "metadata": {},
   "outputs": [],
   "source": [
    "clf=RandomForestClassifier(n_estimators=100)\n",
    "clf.fit(X_train,y_train)\n",
    "y_pred=clf.predict(X_test)\n",
    "acc.append(accuracy_score(y_test, y_pred))\n",
    "clf = tree.DecisionTreeClassifier()\n",
    "clf.fit(X_train, y_train)\n",
    "y_pred = clf.predict(X_test)\n",
    "acc.append(accuracy_score(y_test, y_pred))"
   ]
  },
  {
   "cell_type": "code",
   "execution_count": 236,
   "id": "669cc03d",
   "metadata": {},
   "outputs": [
    {
     "data": {
      "image/png": "[encoded data removed]",
      "text/plain": [
       "<Figure size 360x360 with 1 Axes>"
      ]
     },
     "metadata": {},
     "output_type": "display_data"
    }
   ],
   "source": [
    "fig = plt.figure(figsize= (5, 5))\n",
    "labs = ['DT', 'NB', 'RF100']\n",
    "plt.bar(labs, acc, color ='maroon',\n",
    "        width = 0.3)\n",
    " \n",
    "plt.xlabel(\"Models\")\n",
    "plt.ylabel(\"Accuracy\")\n",
    "plt.title(\"Data set of 100000\")\n",
    "plt.show()"
   ]
  },
  {
   "cell_type": "code",
   "execution_count": 237,
   "id": "7b5d30ca",
   "metadata": {},
   "outputs": [
    {
     "data": {
      "text/plain": [
       "[0.286, 0.4, 0.338]"
      ]
     },
     "execution_count": 237,
     "metadata": {},
     "output_type": "execute_result"
    }
   ],
   "source": [
    "acc\n"
   ]
  },
  {
   "cell_type": "markdown",
   "id": "49847a50",
   "metadata": {},
   "source": [
    "## EntireSet testing against entire dataset for fun, not part of report"
   ]
  },
  {
   "cell_type": "markdown",
   "id": "c93693e7",
   "metadata": {},
   "source": [
    "### \n",
    "ran out of memory, uncomment if you have the hardware, needs some memory opimization"
   ]
  },
  {
   "cell_type": "code",
   "execution_count": 238,
   "id": "0e602ac0",
   "metadata": {},
   "outputs": [],
   "source": [
    "#df = pd.read_csv(\"combined_data.csv\")"
   ]
  },
  {
   "cell_type": "code",
   "execution_count": 239,
   "id": "5635a303",
   "metadata": {},
   "outputs": [],
   "source": [
    "#df.pop(\"detail_desc\")\n",
    "#df.columns\n",
    "#df1 = df.pop(\"article_id\")\n",
    "#df[\"article_id\"] = df1"
   ]
  },
  {
   "cell_type": "code",
   "execution_count": 240,
   "id": "bac7cd65",
   "metadata": {},
   "outputs": [],
   "source": [
    "#processdf = pd.DataFrame()\n",
    "#for col in df.columns:\n",
    "    #le = preprocessing.LabelEncoder()\n",
    "    #le.fit(df[col])\n",
    "    #le_vals = le.transform(df[col])\n",
    "    #processdf[col] = le_vals"
   ]
  },
  {
   "cell_type": "code",
   "execution_count": 241,
   "id": "32b2e32a",
   "metadata": {},
   "outputs": [],
   "source": [
    "#processdf = pd.DataFrame()\n",
    "#for col in df.columns:\n",
    "    #le = preprocessing.LabelEncoder()\n",
    "    #le.fit(df[col])\n",
    "    #le_vals = le.transform(df[col])\n",
    "    #processdf[col] = le_vals\n",
    "#X = processdf.iloc[:,:-1].values\n",
    "#y = processdf.iloc[:,33].values\n",
    "#X_train, X_test, y_train, y_test = train_test_split(X, y, test_size=0.10)\n",
    "#scaler = StandardScaler()\n",
    "#scaler.fit(X_train)\n",
    "\n",
    "#X_train = scaler.transform(X_train)\n",
    "#X_test = scaler.transform(X_test)"
   ]
  },
  {
   "cell_type": "code",
   "execution_count": 242,
   "id": "91cccbb3",
   "metadata": {},
   "outputs": [],
   "source": [
    "#model = GaussianNB()\n",
    "#model.fit(X_train, y_train)\n",
    "#y_pred = model.predict(X_test)\n",
    "#print(\"SciKitLearn\")\n",
    "#print(\"Naive Bayes\")\n",
    "#print(confusion_matrix(y_test, y_pred))\n",
    "#print(\"Accuracy, Error\")\n",
    "#print(accuracy_score(y_test, y_pred), 1 - accuracy_score(y_test, y_pred))"
   ]
  }
 ],
 "metadata": {
  "kernelspec": {
   "display_name": "Python 3 (ipykernel)",
   "language": "python",
   "name": "python3"
  },
  "language_info": {
   "codemirror_mode": {
    "name": "ipython",
    "version": 3
   },
   "file_extension": ".py",
   "mimetype": "text/x-python",
   "name": "python",
   "nbconvert_exporter": "python",
   "pygments_lexer": "ipython3",
   "version": "3.9.2"
  }
 },
 "nbformat": 4,
 "nbformat_minor": 5
}
